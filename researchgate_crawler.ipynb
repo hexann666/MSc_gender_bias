{
 "cells": [
  {
   "cell_type": "code",
   "execution_count": 19,
   "metadata": {},
   "outputs": [],
   "source": [
    "from bs4 import BeautifulSoup\n",
    "from selenium import webdriver\n",
    "import requests\n",
    "from pandas import DataFrame\n",
    "import time\n"
   ]
  },
  {
   "cell_type": "code",
   "execution_count": 10,
   "metadata": {},
   "outputs": [
    {
     "name": "stdout",
     "output_type": "stream",
     "text": [
      "None\n"
     ]
    }
   ],
   "source": [
    "\n",
    "query = 'm. amini gender bias in iranian textbooks' \n",
    "query = query.replace(' ', '+')\n",
    "\n",
    "url = f\"https://www.researchgate.net/search.Search.html?query={query}&type=publication\"\n",
    "\n",
    "dr.get(url)\n",
    "soup = BeautifulSoup(dr.page_source,\"lxml\")\n",
    "#results = soup.find(\"a\", class_=\"nova-legacy-e-link nova-legacy-e-link--color-inherit nova-legacy-e-link--theme-bare\" )\n",
    "#print(results)"
   ]
  },
  {
   "cell_type": "code",
   "execution_count": 4,
   "metadata": {},
   "outputs": [
    {
     "data": {
      "text/html": [
       "<div>\n",
       "<style scoped>\n",
       "    .dataframe tbody tr th:only-of-type {\n",
       "        vertical-align: middle;\n",
       "    }\n",
       "\n",
       "    .dataframe tbody tr th {\n",
       "        vertical-align: top;\n",
       "    }\n",
       "\n",
       "    .dataframe thead th {\n",
       "        text-align: right;\n",
       "    }\n",
       "</style>\n",
       "<table border=\"1\" class=\"dataframe\">\n",
       "  <thead>\n",
       "    <tr style=\"text-align: right;\">\n",
       "      <th></th>\n",
       "      <th>Title</th>\n",
       "      <th>Author</th>\n",
       "      <th>LastName</th>\n",
       "    </tr>\n",
       "  </thead>\n",
       "  <tbody>\n",
       "    <tr>\n",
       "      <th>0</th>\n",
       "      <td>A Content Analysis of Textbooks: Investigating...</td>\n",
       "      <td>A. Gharbavi</td>\n",
       "      <td>Gharbavi</td>\n",
       "    </tr>\n",
       "    <tr>\n",
       "      <th>1</th>\n",
       "      <td>Gender Bias in Intrahousehold Allocation: Evid...</td>\n",
       "      <td>L. H. Braido</td>\n",
       "      <td>Braido</td>\n",
       "    </tr>\n",
       "    <tr>\n",
       "      <th>2</th>\n",
       "      <td>Gender bias in journals of gender studies</td>\n",
       "      <td>H. Kretschmer</td>\n",
       "      <td>Kretschmer</td>\n",
       "    </tr>\n",
       "    <tr>\n",
       "      <th>3</th>\n",
       "      <td>Gender bias in journals of gender studies</td>\n",
       "      <td>R. Kundra</td>\n",
       "      <td>Kundra</td>\n",
       "    </tr>\n",
       "    <tr>\n",
       "      <th>4</th>\n",
       "      <td>Gender bias in journals of gender studies</td>\n",
       "      <td>D. Beaver</td>\n",
       "      <td>Beaver</td>\n",
       "    </tr>\n",
       "    <tr>\n",
       "      <th>5</th>\n",
       "      <td>Skirting the Issues? Experimental Evidence of ...</td>\n",
       "      <td>R. Wuebker</td>\n",
       "      <td>Wuebker</td>\n",
       "    </tr>\n",
       "  </tbody>\n",
       "</table>\n",
       "</div>"
      ],
      "text/plain": [
       "                                               Title         Author  \\\n",
       "0  A Content Analysis of Textbooks: Investigating...    A. Gharbavi   \n",
       "1  Gender Bias in Intrahousehold Allocation: Evid...   L. H. Braido   \n",
       "2          Gender bias in journals of gender studies  H. Kretschmer   \n",
       "3          Gender bias in journals of gender studies      R. Kundra   \n",
       "4          Gender bias in journals of gender studies      D. Beaver   \n",
       "5  Skirting the Issues? Experimental Evidence of ...     R. Wuebker   \n",
       "\n",
       "     LastName  \n",
       "0    Gharbavi  \n",
       "1      Braido  \n",
       "2  Kretschmer  \n",
       "3      Kundra  \n",
       "4      Beaver  \n",
       "5     Wuebker  "
      ]
     },
     "execution_count": 4,
     "metadata": {},
     "output_type": "execute_result"
    }
   ],
   "source": [
    "df_data = {'Title':\n",
    "    [\n",
    "        'A Content Analysis of Textbooks: Investigating Gender Bias as a Social Prominence in Iranian High School English Textbooks',\n",
    "        'Gender Bias in Intrahousehold Allocation: Evidence from an Unintentional Experiment',\n",
    "        'Gender bias in journals of gender studies',\n",
    "        'Gender bias in journals of gender studies',\n",
    "        'Gender bias in journals of gender studies',\n",
    "        'Skirting the Issues? Experimental Evidence of Gender Bias in IPO Prospectus Evaluations'\n",
    "        'Skirting The Issues? Experimental Evidence Of Gender Bias In IPO Prospectus Evaluations'\n",
    "    ],\n",
    "    'Author':\n",
    "    [\n",
    "        'A. Gharbavi',\n",
    "        'L. H. Braido',\n",
    "        'H. Kretschmer',\n",
    "        'R. Kundra',\n",
    "        'D. Beaver',\n",
    "        'R. Wuebker'\n",
    "    ],\n",
    "    'LastName':\n",
    "    [\n",
    "        'Gharbavi',\n",
    "        'Braido',\n",
    "        'Kretschmer',\n",
    "        'Kundra',\n",
    "        'Beaver',\n",
    "        'Wuebker'\n",
    "    ]\n",
    "}\n",
    "\n",
    "df = DataFrame(df_data)\n",
    "df"
   ]
  },
  {
   "cell_type": "code",
   "execution_count": 45,
   "metadata": {},
   "outputs": [],
   "source": [
    "results = soup.find_all('div', class_=\"nova-legacy-v-publication-item__stack nova-legacy-v-publication-item__stack--gutter-m\")\n",
    "titles = []\n",
    "paper_title = 'Gender Bias in the Iranian High School EFL Textbooks'\n",
    "surname = 'Amini'\n",
    "\n",
    "for result in results:\n",
    "    result_title = result.find(\"a\", class_=\"nova-legacy-e-link nova-legacy-e-link--color-inherit nova-legacy-e-link--theme-bare\")\n",
    "    result_title = result_title.text\n",
    "    #print(result_title)\n",
    "    #print(result_title==paper_title)\n",
    "    #titles.append(result_title.text)\n",
    "    if result_title == paper_title:\n",
    "        results_name = result.find_all('a', class_='nova-legacy-v-person-inline-item')\n",
    "        for name in results_name:\n",
    "            full_name = name.text.split(' ')\n",
    "            if surname == full_name[-1]:\n",
    "                first_name = full_name[0]\n",
    "        \n",
    "        #print(full_name, first_name)\n",
    "        #break"
   ]
  },
  {
   "cell_type": "code",
   "execution_count": 32,
   "metadata": {},
   "outputs": [
    {
     "name": "stdout",
     "output_type": "stream",
     "text": [
      "Found: Source\n",
      "Is equal to search string? False\n",
      "Found: Women’s Entrepreneurship: Closing the Gender Gap in Access to Financial and Other Services and in Social Entrepreneurship\n",
      "Is equal to search string? True\n",
      "['Katie', 'McCracken'] Katie\n",
      "Found: Women’s entrepreneurship policy: A 13-nation cross-country comparison\n",
      "Is equal to search string? False\n"
     ]
    }
   ],
   "source": [
    "#results = soup.find_all('div', class_=\"nova-legacy-v-publication-item__stack nova-legacy-v-publication-item__stack--gutter-m\")\n",
    "\n",
    "paper_title = 'Women’s Entrepreneurship: closing the gender gap in access to financial and other services and in social entrepreneurship'\n",
    "surname = 'McCracken'\n",
    "\n",
    "query = paper_title.replace(' ', '+') + '+' + surname\n",
    "url = f\"https://www.researchgate.net/search.Search.html?query={query}&type=publication\"\n",
    "\n",
    "\n",
    "dr.get(url)\n",
    "soup = BeautifulSoup(dr.page_source,\"lxml\")\n",
    "results = soup.find_all('div', class_=\"nova-legacy-v-publication-item__stack nova-legacy-v-publication-item__stack--gutter-m\")\n",
    "\n",
    "for result in results[:5]:\n",
    "    result_title = result.find_all(\"a\", class_=\"nova-legacy-e-link nova-legacy-e-link--color-inherit nova-legacy-e-link--theme-bare\")\n",
    "    for result_t in result_title:\n",
    "        result_t = result_t.text\n",
    "        #print(result_t)\n",
    "        print('Found:', result_t)\n",
    "        print('Is equal to search string?', result_t.lower() == paper_title.lower())\n",
    "    #titles.append(result_title.text)\n",
    "        if result_t.lower() == paper_title.lower():\n",
    "            results_name = result.find_all('a', class_='nova-legacy-v-person-inline-item')\n",
    "            for name in results_name:\n",
    "                full_name = name.text.split(' ')\n",
    "                    #print(surname, full_name[-1])\n",
    "                if (surname.lower() == full_name[-1].lower()):\n",
    "                    if not full_name[0].replace('.', '').isupper():\n",
    "                        if (full_name[0] not in ['Mr.', 'Dr.', 'Miss., Md.']):\n",
    "                            first_name = full_name[0]"
   ]
  },
  {
   "cell_type": "code",
   "execution_count": 43,
   "metadata": {},
   "outputs": [],
   "source": [
    "import regex as re"
   ]
  },
  {
   "cell_type": "code",
   "execution_count": 37,
   "metadata": {},
   "outputs": [],
   "source": [
    "dr = webdriver.Chrome()"
   ]
  },
  {
   "cell_type": "code",
   "execution_count": 55,
   "metadata": {},
   "outputs": [],
   "source": [
    "def update_names_from_RG(paper_title, surname,webdriver='dr', name=None):\n",
    "    i=0\n",
    "    for i in range(10):\n",
    "        #query = 'm. amini gender bias in iranian textbooks' \n",
    "        query = paper_title.replace(' ', '+') + '+' + surname\n",
    "        url = f\"https://www.researchgate.net/search.Search.html?query={query}&type=publication\"\n",
    "\n",
    "        paper_title = re.sub('[^0-9a-zA-Z ]+', '', paper_title).lower()\n",
    "        dr.get(url)\n",
    "        soup = BeautifulSoup(dr.page_source,\"lxml\")\n",
    "\n",
    "        results = soup.find_all('div', class_=\"nova-legacy-v-publication-item__stack nova-legacy-v-publication-item__stack--gutter-m\")\n",
    "        #print(paper_title)\n",
    "        i += 1\n",
    "        if i == 10:\n",
    "            time.sleep(10)\n",
    "            \n",
    "        for result in results:\n",
    "            result_title = result.find_all(\"a\", class_=\"nova-legacy-e-link nova-legacy-e-link--color-inherit nova-legacy-e-link--theme-bare\")\n",
    "            for result_t in result_title:\n",
    "                result_t = re.sub('[^0-9a-zA-Z ]+', '', result_t.text).lower()\n",
    "                #print(result_t)\n",
    "                print('Found:', re.sub('[^0-9a-zA-Z ]+', '', result_t))\n",
    "                print('Is equal to search string?', result_t.lower() == paper_title.lower())\n",
    "            \n",
    "                if result_t == paper_title:\n",
    "                        #print(result_title)\n",
    "                        results_name = result.find_all('a', class_='nova-legacy-v-person-inline-item')\n",
    "                        for name in results_name:\n",
    "                            full_name = name.text.split(' ')\n",
    "                            #print(surname, full_name[-1])\n",
    "                            if surname.lower() == full_name[-1].lower():\n",
    "                                if not full_name[0].replace('.', '').isupper():\n",
    "                                    if (full_name[0] not in ['Mr.', 'Dr.', 'Miss., Md.']):\n",
    "                                        first_name = full_name[0]\n",
    "                                        return first_name\n",
    "\n",
    "\n",
    "#df['FirstName'] = df.apply(lambda x: update_names_from_RG(x.Title, x.LastName, dr), axis=1)\n",
    "#df"
   ]
  },
  {
   "cell_type": "code",
   "execution_count": 53,
   "metadata": {},
   "outputs": [
    {
     "data": {
      "text/plain": [
       "'womens entrepreneurship closing the gender gap in access to financial and other services and in social entrepreneurship'"
      ]
     },
     "execution_count": 53,
     "metadata": {},
     "output_type": "execute_result"
    }
   ],
   "source": [
    "paper_title = 'Women’s Entrepreneurship: closing the gender gap in access to financial and other services and in social entrepreneurship'\n",
    "re.sub('[^0-9a-zA-Z ]+', '', paper_title).lower()"
   ]
  },
  {
   "cell_type": "code",
   "execution_count": 58,
   "metadata": {},
   "outputs": [
    {
     "name": "stdout",
     "output_type": "stream",
     "text": [
      "Found: scientific community us study shows unconscious gender bias in academic science\n",
      "Is equal to search string? True\n"
     ]
    },
    {
     "data": {
      "text/plain": [
       "'Jeffrey'"
      ]
     },
     "execution_count": 58,
     "metadata": {},
     "output_type": "execute_result"
    }
   ],
   "source": [
    "update_names_from_RG('Scientific community. U.S. study shows unconscious gender bias in academic science.', 'Mervis')"
   ]
  },
  {
   "cell_type": "code",
   "execution_count": 25,
   "metadata": {},
   "outputs": [
    {
     "name": "stdout",
     "output_type": "stream",
     "text": [
      "Mohadeseh Amini\n",
      "Parviz Birjandi\n",
      "Thomas J. Misa\n",
      "Algevis Wrench\n",
      "Jocelyn Mitchell-Williams\n",
      "Vijay Kumar Rajput\n",
      "Abdullah Gharbavi\n",
      "Seyyed Ahmad Mousavi\n",
      "Intisar Albondoq\n",
      "Navya Vanaja Sahadevan\n",
      "Deepak Padmanabhan\n",
      "Ali Roohani\n",
      "Mandani Zarei\n",
      "Stacey L. Simon\n",
      "Daniel Clay\n",
      "Jessica Chandrasekhar\n",
      "Christina L Duncan\n",
      "Nashriyah\n",
      "Rizka Maulida\n",
      "Yuni Setia Ningsih\n",
      "Yunisrina Qismullah Yusuf\n",
      "Rishabh Bhardwaj\n",
      "Navonil Majumder\n",
      "Soujanya Poria\n"
     ]
    }
   ],
   "source": [
    "results = soup.find(\"a\", class_=\"nova-legacy-e-link nova-legacy-e-link--color-inherit nova-legacy-e-link--theme-bare\")\n",
    "#print(results.text)\n",
    "results_name = soup.find_all('a', class_='nova-legacy-v-person-inline-item')\n",
    "for result in results_name:\n",
    "    print(result.text)"
   ]
  }
 ],
 "metadata": {
  "kernelspec": {
   "display_name": "Python 3",
   "language": "python",
   "name": "python3"
  },
  "language_info": {
   "codemirror_mode": {
    "name": "ipython",
    "version": 3
   },
   "file_extension": ".py",
   "mimetype": "text/x-python",
   "name": "python",
   "nbconvert_exporter": "python",
   "pygments_lexer": "ipython3",
   "version": "3.10.4"
  },
  "orig_nbformat": 4,
  "vscode": {
   "interpreter": {
    "hash": "d3e10ef16274dd72e574b8fa73b58450b957d8421a2901baded3cca26fcf5dda"
   }
  }
 },
 "nbformat": 4,
 "nbformat_minor": 2
}
