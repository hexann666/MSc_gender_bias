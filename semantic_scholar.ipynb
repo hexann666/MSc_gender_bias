{
 "cells": [
  {
   "cell_type": "code",
   "execution_count": null,
   "metadata": {},
   "outputs": [],
   "source": [
    "from semanticscholar import SemanticScholar\n",
    "from bs4 import BeautifulSoup\n",
    "from selenium import webdriver\n",
    "import requests\n",
    "\n",
    "import random\n",
    "import time\n",
    "import csv\n",
    "\n",
    "from pandas import DataFrame\n"
   ]
  },
  {
   "cell_type": "code",
   "execution_count": 24,
   "metadata": {},
   "outputs": [],
   "source": [
    "def write_csv(data, filename):\n",
    "    with open(filename, 'w', encoding='UTF8') as f:\n",
    "        # create the csv writer\n",
    "        writer = csv.writer(f)\n",
    "        # write a row to the csv file\n",
    "        writer.writerow(data)"
   ]
  },
  {
   "attachments": {},
   "cell_type": "markdown",
   "metadata": {},
   "source": [
    "## First experiment"
   ]
  },
  {
   "cell_type": "code",
   "execution_count": 3,
   "metadata": {},
   "outputs": [
    {
     "name": "stdout",
     "output_type": "stream",
     "text": [
      "2357826 results. First occurrence: Gender Bias in Machine Translation.\n"
     ]
    }
   ],
   "source": [
    "sch = SemanticScholar()\n",
    "results = sch.search_paper('+\"gender bias\"', fields=['title','year', 'authors', 'publicationTypes', 'citationCount', 'url'])\n",
    "print(f'{results.total} results.', f'First occurrence: {results[0].title}.')"
   ]
  },
  {
   "cell_type": "code",
   "execution_count": 3,
   "metadata": {},
   "outputs": [],
   "source": [
    "data = []\n",
    "for result in results:\n",
    "    for author in result['authors']:\n",
    "        data.append({'Title': result['title'], \n",
    "                    'Year': result['year'],\n",
    "                    'Author': author['name'],\n",
    "                    'PublicationType': result['publicationTypes'], \n",
    "                    'CitationCount': result['citationCount'], \n",
    "                    'URL': result['url']})"
   ]
  },
  {
   "cell_type": "code",
   "execution_count": 5,
   "metadata": {},
   "outputs": [
    {
     "data": {
      "text/plain": [
       "dict_keys(['paperId', 'url', 'title', 'year', 'citationCount', 'publicationTypes', 'authors'])"
      ]
     },
     "execution_count": 5,
     "metadata": {},
     "output_type": "execute_result"
    }
   ],
   "source": [
    "results[0].keys()"
   ]
  },
  {
   "cell_type": "code",
   "execution_count": 12,
   "metadata": {},
   "outputs": [
    {
     "data": {
      "text/plain": [
       "100"
      ]
     },
     "execution_count": 12,
     "metadata": {},
     "output_type": "execute_result"
    }
   ],
   "source": [
    "len(results)"
   ]
  },
  {
   "cell_type": "code",
   "execution_count": 6,
   "metadata": {},
   "outputs": [
    {
     "data": {
      "text/html": [
       "<div>\n",
       "<style scoped>\n",
       "    .dataframe tbody tr th:only-of-type {\n",
       "        vertical-align: middle;\n",
       "    }\n",
       "\n",
       "    .dataframe tbody tr th {\n",
       "        vertical-align: top;\n",
       "    }\n",
       "\n",
       "    .dataframe thead th {\n",
       "        text-align: right;\n",
       "    }\n",
       "</style>\n",
       "<table border=\"1\" class=\"dataframe\">\n",
       "  <thead>\n",
       "    <tr style=\"text-align: right;\">\n",
       "      <th></th>\n",
       "      <th>Title</th>\n",
       "      <th>Year</th>\n",
       "      <th>Author</th>\n",
       "      <th>PublicationType</th>\n",
       "      <th>CitationCount</th>\n",
       "      <th>URL</th>\n",
       "    </tr>\n",
       "  </thead>\n",
       "  <tbody>\n",
       "    <tr>\n",
       "      <th>0</th>\n",
       "      <td>Gender Bias in Machine Translation</td>\n",
       "      <td>2021.0</td>\n",
       "      <td>Beatrice Savoldi</td>\n",
       "      <td>[JournalArticle, Review]</td>\n",
       "      <td>44</td>\n",
       "      <td>https://www.semanticscholar.org/paper/2ab29510...</td>\n",
       "    </tr>\n",
       "    <tr>\n",
       "      <th>1</th>\n",
       "      <td>Gender Bias in Machine Translation</td>\n",
       "      <td>2021.0</td>\n",
       "      <td>Marco Gaido</td>\n",
       "      <td>[JournalArticle, Review]</td>\n",
       "      <td>44</td>\n",
       "      <td>https://www.semanticscholar.org/paper/2ab29510...</td>\n",
       "    </tr>\n",
       "    <tr>\n",
       "      <th>2</th>\n",
       "      <td>Gender Bias in Machine Translation</td>\n",
       "      <td>2021.0</td>\n",
       "      <td>L. Bentivogli</td>\n",
       "      <td>[JournalArticle, Review]</td>\n",
       "      <td>44</td>\n",
       "      <td>https://www.semanticscholar.org/paper/2ab29510...</td>\n",
       "    </tr>\n",
       "    <tr>\n",
       "      <th>3</th>\n",
       "      <td>Gender Bias in Machine Translation</td>\n",
       "      <td>2021.0</td>\n",
       "      <td>Matteo Negri</td>\n",
       "      <td>[JournalArticle, Review]</td>\n",
       "      <td>44</td>\n",
       "      <td>https://www.semanticscholar.org/paper/2ab29510...</td>\n",
       "    </tr>\n",
       "    <tr>\n",
       "      <th>4</th>\n",
       "      <td>Gender Bias in Machine Translation</td>\n",
       "      <td>2021.0</td>\n",
       "      <td>M. Turchi</td>\n",
       "      <td>[JournalArticle, Review]</td>\n",
       "      <td>44</td>\n",
       "      <td>https://www.semanticscholar.org/paper/2ab29510...</td>\n",
       "    </tr>\n",
       "  </tbody>\n",
       "</table>\n",
       "</div>"
      ],
      "text/plain": [
       "                                Title    Year            Author  \\\n",
       "0  Gender Bias in Machine Translation  2021.0  Beatrice Savoldi   \n",
       "1  Gender Bias in Machine Translation  2021.0       Marco Gaido   \n",
       "2  Gender Bias in Machine Translation  2021.0     L. Bentivogli   \n",
       "3  Gender Bias in Machine Translation  2021.0      Matteo Negri   \n",
       "4  Gender Bias in Machine Translation  2021.0         M. Turchi   \n",
       "\n",
       "            PublicationType  CitationCount  \\\n",
       "0  [JournalArticle, Review]             44   \n",
       "1  [JournalArticle, Review]             44   \n",
       "2  [JournalArticle, Review]             44   \n",
       "3  [JournalArticle, Review]             44   \n",
       "4  [JournalArticle, Review]             44   \n",
       "\n",
       "                                                 URL  \n",
       "0  https://www.semanticscholar.org/paper/2ab29510...  \n",
       "1  https://www.semanticscholar.org/paper/2ab29510...  \n",
       "2  https://www.semanticscholar.org/paper/2ab29510...  \n",
       "3  https://www.semanticscholar.org/paper/2ab29510...  \n",
       "4  https://www.semanticscholar.org/paper/2ab29510...  "
      ]
     },
     "execution_count": 6,
     "metadata": {},
     "output_type": "execute_result"
    }
   ],
   "source": [
    "df = DataFrame(data, columns = ['Title', 'Year', 'Author', 'PublicationType', 'CitationCount', 'URL'])\n",
    "df.head()"
   ]
  },
  {
   "cell_type": "code",
   "execution_count": 83,
   "metadata": {},
   "outputs": [
    {
     "ename": "NameError",
     "evalue": "name 'df' is not defined",
     "output_type": "error",
     "traceback": [
      "\u001b[1;31m---------------------------------------------------------------------------\u001b[0m",
      "\u001b[1;31mNameError\u001b[0m                                 Traceback (most recent call last)",
      "\u001b[1;32mc:\\Git_repositories\\master_thesis\\semantic_scholar.ipynb Cell 9\u001b[0m in \u001b[0;36m<cell line: 1>\u001b[1;34m()\u001b[0m\n\u001b[1;32m----> <a href='vscode-notebook-cell:/c%3A/Git_repositories/master_thesis/semantic_scholar.ipynb#Y116sZmlsZQ%3D%3D?line=0'>1</a>\u001b[0m df_dd \u001b[39m=\u001b[39m df\u001b[39m.\u001b[39mdrop_duplicates(subset\u001b[39m=\u001b[39m[\u001b[39m\"\u001b[39m\u001b[39mTitle\u001b[39m\u001b[39m\"\u001b[39m, \u001b[39m\"\u001b[39m\u001b[39mAuthor\u001b[39m\u001b[39m\"\u001b[39m], keep\u001b[39m=\u001b[39m\u001b[39mFalse\u001b[39;00m)\n\u001b[0;32m      <a href='vscode-notebook-cell:/c%3A/Git_repositories/master_thesis/semantic_scholar.ipynb#Y116sZmlsZQ%3D%3D?line=1'>2</a>\u001b[0m \u001b[39mprint\u001b[39m(\u001b[39mlen\u001b[39m(df), \u001b[39mlen\u001b[39m(df_dd))\n",
      "\u001b[1;31mNameError\u001b[0m: name 'df' is not defined"
     ]
    }
   ],
   "source": []
  },
  {
   "attachments": {},
   "cell_type": "markdown",
   "metadata": {},
   "source": [
    "## Data 2012-2023"
   ]
  },
  {
   "cell_type": "code",
   "execution_count": 4,
   "metadata": {},
   "outputs": [
    {
     "name": "stdout",
     "output_type": "stream",
     "text": [
      "100\n",
      "Since 2012 until 2012 there are 29948 results\n",
      "100\n",
      "Since 2012 until 2013 there are 61566 results\n",
      "100\n",
      "Since 2012 until 2014 there are 94458 results\n",
      "100\n",
      "Since 2012 until 2015 there are 127151 results\n",
      "100\n",
      "Since 2012 until 2016 there are 161192 results\n",
      "100\n",
      "Since 2012 until 2017 there are 196362 results\n",
      "100\n",
      "Since 2012 until 2018 there are 231544 results\n",
      "100\n",
      "Since 2012 until 2019 there are 266785 results\n",
      "100\n",
      "Since 2012 until 2020 there are 274972 results\n",
      "100\n",
      "Since 2012 until 2021 there are 314638 results\n",
      "100\n",
      "Since 2012 until 2022 there are 352906 results\n",
      "100\n",
      "Since 2012 until 2023 there are 396553 results\n"
     ]
    }
   ],
   "source": [
    "data_authors = []\n",
    "df_authors = DataFrame(columns = ['Title', 'Year', 'Author', 'PublicationType', 'CitationCount', 'URL'])\n",
    "\n",
    "sch = SemanticScholar()\n",
    "for year in range(2012, 2024):\n",
    "    results = sch.search_paper('+\"gender bias\"', \n",
    "        fields=['title','year', 'authors', 'publicationTypes', 'citationCount', 'url'], \n",
    "        year=year)\n",
    "    print(len(results))\n",
    "    for result in results:\n",
    "        for author in result['authors']:\n",
    "            data_authors.append({'Title': result['title'], \n",
    "                    'Year': result['year'],\n",
    "                    'Author': author['name'],\n",
    "                    'PublicationType': result['publicationTypes'], \n",
    "                    'CitationCount': result['citationCount'], \n",
    "                    'URL': result['url']})\n",
    "    print(f'Since 2012 until {year} there are {len(data_authors)} results')\n",
    "    "
   ]
  },
  {
   "attachments": {},
   "cell_type": "markdown",
   "metadata": {},
   "source": [
    "write to csv"
   ]
  },
  {
   "cell_type": "code",
   "execution_count": 18,
   "metadata": {},
   "outputs": [],
   "source": [
    "# open the file in the write mode\n",
    "with open('data/semanticScholar_try_+gender_bias.csv', 'w', encoding='UTF8') as f:\n",
    "    # create the csv writer\n",
    "    writer = csv.writer(f)\n",
    "    # write a row to the csv file\n",
    "    writer.writerow(data_authors)"
   ]
  },
  {
   "attachments": {},
   "cell_type": "markdown",
   "metadata": {},
   "source": [
    "write to a DataFrame"
   ]
  },
  {
   "cell_type": "code",
   "execution_count": 5,
   "metadata": {},
   "outputs": [
    {
     "name": "stdout",
     "output_type": "stream",
     "text": [
      "247671\n"
     ]
    }
   ],
   "source": [
    "df_authors = DataFrame(data_authors, columns = ['Title', 'Year', 'Author', 'PublicationType', 'CitationCount', 'URL'])\n",
    "print(df_authors['Author'].nunique())"
   ]
  },
  {
   "attachments": {},
   "cell_type": "markdown",
   "metadata": {},
   "source": [
    "check duplicates"
   ]
  },
  {
   "cell_type": "code",
   "execution_count": 88,
   "metadata": {},
   "outputs": [
    {
     "name": "stdout",
     "output_type": "stream",
     "text": [
      "396553 357789\n"
     ]
    }
   ],
   "source": [
    "df_au_dd = df_authors.drop_duplicates(subset=[\"Title\", \"Author\"], keep=\"first\")\n",
    "print(len(df_authors), len(df_au_dd))"
   ]
  },
  {
   "attachments": {},
   "cell_type": "markdown",
   "metadata": {},
   "source": [
    "drop duplicates inplace"
   ]
  },
  {
   "cell_type": "code",
   "execution_count": 130,
   "metadata": {},
   "outputs": [],
   "source": [
    "df_authors.drop_duplicates(subset=[\"Title\", \"Author\"], keep=\"first\", inplace=True, ignore_index=True)"
   ]
  },
  {
   "attachments": {},
   "cell_type": "markdown",
   "metadata": {},
   "source": [
    "cast Year as int"
   ]
  },
  {
   "cell_type": "code",
   "execution_count": 92,
   "metadata": {},
   "outputs": [
    {
     "data": {
      "text/plain": [
       "0         2012\n",
       "1         2012\n",
       "2         2012\n",
       "3         2012\n",
       "4         2012\n",
       "          ... \n",
       "396548    2023\n",
       "396549    2023\n",
       "396550    2023\n",
       "396551    2023\n",
       "396552    2023\n",
       "Name: Year, Length: 357789, dtype: Int64"
      ]
     },
     "execution_count": 92,
     "metadata": {},
     "output_type": "execute_result"
    }
   ],
   "source": [
    "df_authors.Year.astype('Int64')"
   ]
  },
  {
   "attachments": {},
   "cell_type": "markdown",
   "metadata": {},
   "source": [
    "Show main info about the Dataframe and number of unique names"
   ]
  },
  {
   "cell_type": "code",
   "execution_count": 93,
   "metadata": {},
   "outputs": [
    {
     "name": "stdout",
     "output_type": "stream",
     "text": [
      "<class 'pandas.core.frame.DataFrame'>\n",
      "Int64Index: 357789 entries, 0 to 396552\n",
      "Data columns (total 6 columns):\n",
      " #   Column           Non-Null Count   Dtype \n",
      "---  ------           --------------   ----- \n",
      " 0   Title            357789 non-null  object\n",
      " 1   Year             357789 non-null  int64 \n",
      " 2   Author           357789 non-null  object\n",
      " 3   PublicationType  229206 non-null  object\n",
      " 4   CitationCount    357789 non-null  int64 \n",
      " 5   URL              357789 non-null  object\n",
      "dtypes: int64(2), object(4)\n",
      "memory usage: 19.1+ MB\n",
      "None\n",
      "Title                   0\n",
      "Year                    0\n",
      "Author                  0\n",
      "PublicationType    128583\n",
      "CitationCount           0\n",
      "URL                     0\n",
      "dtype: int64\n"
     ]
    },
    {
     "data": {
      "text/plain": [
       "247671"
      ]
     },
     "execution_count": 93,
     "metadata": {},
     "output_type": "execute_result"
    }
   ],
   "source": [
    "print(df_authors.info())\n",
    "print(df_authors.isnull().sum())\n",
    "df_authors.Author.nunique()"
   ]
  },
  {
   "cell_type": "code",
   "execution_count": 38,
   "metadata": {},
   "outputs": [],
   "source": [
    "df_authors.to_csv('data/authors_2012-2023.csv')"
   ]
  },
  {
   "attachments": {},
   "cell_type": "markdown",
   "metadata": {},
   "source": [
    "### Sharpen the results"
   ]
  },
  {
   "cell_type": "code",
   "execution_count": 102,
   "metadata": {},
   "outputs": [
    {
     "name": "stderr",
     "output_type": "stream",
     "text": [
      "C:\\Users\\afedorova\\AppData\\Local\\Temp\\ipykernel_1824\\4083290771.py:1: UserWarning: This pattern is interpreted as a regular expression, and has match groups. To actually get the groups, use str.extract.\n",
      "  print('3 patterns', len(df_authors[df_authors.Title.str.contains('[Gg]ender(.*)[Bb]ias|[Gg]ender(.*)[Gg]ap|[Gg]ender(.*)[dD]ifference')]))\n"
     ]
    },
    {
     "name": "stdout",
     "output_type": "stream",
     "text": [
      "3 patterns 39287\n"
     ]
    },
    {
     "name": "stderr",
     "output_type": "stream",
     "text": [
      "C:\\Users\\afedorova\\AppData\\Local\\Temp\\ipykernel_1824\\4083290771.py:2: UserWarning: This pattern is interpreted as a regular expression, and has match groups. To actually get the groups, use str.extract.\n",
      "  print('Gender bias', len(df_authors[df_authors.Title.str.contains('[Gg]ender(.*)[Bb]ias')]))\n"
     ]
    },
    {
     "name": "stdout",
     "output_type": "stream",
     "text": [
      "Gender bias 7718\n"
     ]
    },
    {
     "name": "stderr",
     "output_type": "stream",
     "text": [
      "C:\\Users\\afedorova\\AppData\\Local\\Temp\\ipykernel_1824\\4083290771.py:3: UserWarning: This pattern is interpreted as a regular expression, and has match groups. To actually get the groups, use str.extract.\n",
      "  print('Gender Gap', len(df_authors[df_authors.Title.str.contains('[Gg]ender(.*)[Gg]ap')]))\n"
     ]
    },
    {
     "name": "stdout",
     "output_type": "stream",
     "text": [
      "Gender Gap 4810\n"
     ]
    },
    {
     "name": "stderr",
     "output_type": "stream",
     "text": [
      "C:\\Users\\afedorova\\AppData\\Local\\Temp\\ipykernel_1824\\4083290771.py:4: UserWarning: This pattern is interpreted as a regular expression, and has match groups. To actually get the groups, use str.extract.\n",
      "  print('Gender difference', len(df_authors[df_authors.Title.str.contains('[Gg]ender(.*)[Dd]ifference')]))\n"
     ]
    },
    {
     "name": "stdout",
     "output_type": "stream",
     "text": [
      "Gender difference 27218\n"
     ]
    }
   ],
   "source": [
    "print('3 patterns', len(df_authors[df_authors.Title.str.contains('[Gg]ender(.*)[Bb]ias|[Gg]ender(.*)[Gg]ap|[Gg]ender(.*)[dD]ifference')]))\n",
    "print('Gender bias', len(df_authors[df_authors.Title.str.contains('[Gg]ender(.*)[Bb]ias')]))\n",
    "print('Gender Gap', len(df_authors[df_authors.Title.str.contains('[Gg]ender(.*)[Gg]ap')]))\n",
    "print('Gender difference', len(df_authors[df_authors.Title.str.contains('[Gg]ender(.*)[Dd]ifference')]))\n"
   ]
  },
  {
   "cell_type": "code",
   "execution_count": 377,
   "metadata": {},
   "outputs": [
    {
     "name": "stderr",
     "output_type": "stream",
     "text": [
      "C:\\Users\\afedorova\\AppData\\Local\\Temp\\ipykernel_1824\\2789606413.py:1: UserWarning: This pattern is interpreted as a regular expression, and has match groups. To actually get the groups, use str.extract.\n",
      "  df_authors_re = df_authors[df_authors.Title.str.contains('[Gg]ender(.*)[Bb]ias|[Gg]ender(.*)[Gg]ap|[Gg]ender(.*)[dD]ifference')]\n"
     ]
    }
   ],
   "source": [
    "df_authors_re = df_authors[df_authors.Title.str.contains('[Gg]ender(.*)[Bb]ias|[Gg]ender(.*)[Gg]ap|[Gg]ender(.*)[dD]ifference')]\n",
    "df_authors_re = df_authors_re.reset_index(drop=True)\n",
    "#df_authors_re.to_csv('data/authors_2012-2023_regex.csv')"
   ]
  },
  {
   "cell_type": "code",
   "execution_count": 378,
   "metadata": {},
   "outputs": [
    {
     "name": "stdout",
     "output_type": "stream",
     "text": [
      "number of row in the initial DF: 357789\n",
      "number of row in the DF after regex: 39287\n",
      "number of unique articles before search precision: 99189\n",
      "number of unique article titles after search precision: 10551\n",
      "number of unique author names after search precision: 33793\n"
     ]
    }
   ],
   "source": [
    "print('number of row in the initial DF: ', len(df_authors), '\\n', 'number of row in the DF after regex: ', len(df_authors_re), sep='')\n",
    "print('number of unique articles before search precision:', df_authors['Title'].nunique())\n",
    "print('number of unique article titles after search precision:',df_authors_re['Title'].nunique()) #.to_csv('data/regex_search.csv')\n",
    "print('number of unique author names after search precision:',df_authors_re['Author'].nunique()) #.to_csv('data/regex_search.csv')"
   ]
  },
  {
   "attachments": {},
   "cell_type": "markdown",
   "metadata": {},
   "source": [
    "### Data cleaning"
   ]
  },
  {
   "attachments": {},
   "cell_type": "markdown",
   "metadata": {},
   "source": [
    "#### Clean chinese characters"
   ]
  },
  {
   "cell_type": "markdown",
   "metadata": {},
   "source": [
    "Search for any Chinese characters in Author names, as this is the crucial informaiton for our data."
   ]
  },
  {
   "cell_type": "code",
   "execution_count": 320,
   "metadata": {},
   "outputs": [
    {
     "data": {
      "text/html": [
       "<div>\n",
       "<style scoped>\n",
       "    .dataframe tbody tr th:only-of-type {\n",
       "        vertical-align: middle;\n",
       "    }\n",
       "\n",
       "    .dataframe tbody tr th {\n",
       "        vertical-align: top;\n",
       "    }\n",
       "\n",
       "    .dataframe thead th {\n",
       "        text-align: right;\n",
       "    }\n",
       "</style>\n",
       "<table border=\"1\" class=\"dataframe\">\n",
       "  <thead>\n",
       "    <tr style=\"text-align: right;\">\n",
       "      <th></th>\n",
       "      <th>Title</th>\n",
       "      <th>Author</th>\n",
       "    </tr>\n",
       "  </thead>\n",
       "  <tbody>\n",
       "    <tr>\n",
       "      <th>4089</th>\n",
       "      <td>Gender Roles: Biases or Differences?</td>\n",
       "      <td>魏静</td>\n",
       "    </tr>\n",
       "    <tr>\n",
       "      <th>4179</th>\n",
       "      <td>從本土企業董事性別比例平衡與績效的關係看性別平等意涵; Corporate Board Ge...</td>\n",
       "      <td>王孟洵</td>\n",
       "    </tr>\n",
       "    <tr>\n",
       "      <th>7925</th>\n",
       "      <td>Gender Bias and Resistance in Edna O'Brien's C...</td>\n",
       "      <td>張崇旂</td>\n",
       "    </tr>\n",
       "    <tr>\n",
       "      <th>7996</th>\n",
       "      <td>Gender Bias Against Foreign Wives : Analysis o...</td>\n",
       "      <td>加藤 直子</td>\n",
       "    </tr>\n",
       "    <tr>\n",
       "      <th>9900</th>\n",
       "      <td>Lower Melatonin Secretion in Older Females: Ge...</td>\n",
       "      <td>Kenji 賢史 Obayashi 大林</td>\n",
       "    </tr>\n",
       "    <tr>\n",
       "      <th>9901</th>\n",
       "      <td>Lower Melatonin Secretion in Older Females: Ge...</td>\n",
       "      <td>Keigo 圭吾 Saeki 佐伯</td>\n",
       "    </tr>\n",
       "    <tr>\n",
       "      <th>9902</th>\n",
       "      <td>Lower Melatonin Secretion in Older Females: Ge...</td>\n",
       "      <td>Nobuhiro 庸浩 Tone 刀根</td>\n",
       "    </tr>\n",
       "    <tr>\n",
       "      <th>9903</th>\n",
       "      <td>Lower Melatonin Secretion in Older Females: Ge...</td>\n",
       "      <td>Junko 淳子 Iwamoto 岩本</td>\n",
       "    </tr>\n",
       "    <tr>\n",
       "      <th>9904</th>\n",
       "      <td>Lower Melatonin Secretion in Older Females: Ge...</td>\n",
       "      <td>Kimie 季美恵 Miyata 宮田</td>\n",
       "    </tr>\n",
       "    <tr>\n",
       "      <th>9905</th>\n",
       "      <td>Lower Melatonin Secretion in Older Females: Ge...</td>\n",
       "      <td>Yoshito 義人 Ikada 筏</td>\n",
       "    </tr>\n",
       "    <tr>\n",
       "      <th>9906</th>\n",
       "      <td>Lower Melatonin Secretion in Older Females: Ge...</td>\n",
       "      <td>Norio 典男 Kurumatani 車谷</td>\n",
       "    </tr>\n",
       "    <tr>\n",
       "      <th>11034</th>\n",
       "      <td>Gender Differences in Conversation</td>\n",
       "      <td>陈媛媛</td>\n",
       "    </tr>\n",
       "    <tr>\n",
       "      <th>11611</th>\n",
       "      <td>Analysis of Gender Differences in Color Reacti...</td>\n",
       "      <td>乔芳</td>\n",
       "    </tr>\n",
       "    <tr>\n",
       "      <th>11647</th>\n",
       "      <td>Deuce or advantage? : examining gender bias in...</td>\n",
       "      <td>葉永禧</td>\n",
       "    </tr>\n",
       "    <tr>\n",
       "      <th>27256</th>\n",
       "      <td>Reducing unconscious gender bias through works...</td>\n",
       "      <td>三好 葉月</td>\n",
       "    </tr>\n",
       "    <tr>\n",
       "      <th>27257</th>\n",
       "      <td>Reducing unconscious gender bias through works...</td>\n",
       "      <td>加藤 朗</td>\n",
       "    </tr>\n",
       "    <tr>\n",
       "      <th>36204</th>\n",
       "      <td>Gender Bias and Stereotypes in English Example...</td>\n",
       "      <td>安琪 郑</td>\n",
       "    </tr>\n",
       "    <tr>\n",
       "      <th>36393</th>\n",
       "      <td>中文自然语言处理多任务中的职业性别偏见测量(Measurement of Occupatio...</td>\n",
       "      <td>M. Guo 郭</td>\n",
       "    </tr>\n",
       "    <tr>\n",
       "      <th>36394</th>\n",
       "      <td>中文自然语言处理多任务中的职业性别偏见测量(Measurement of Occupatio...</td>\n",
       "      <td>Jiali 加厉 Li 李</td>\n",
       "    </tr>\n",
       "    <tr>\n",
       "      <th>36395</th>\n",
       "      <td>中文自然语言处理多任务中的职业性别偏见测量(Measurement of Occupatio...</td>\n",
       "      <td>Jishun 继舜 Zhao 赵</td>\n",
       "    </tr>\n",
       "    <tr>\n",
       "      <th>36396</th>\n",
       "      <td>中文自然语言处理多任务中的职业性别偏见测量(Measurement of Occupatio...</td>\n",
       "      <td>Shucheng 述承 Zhu 朱</td>\n",
       "    </tr>\n",
       "    <tr>\n",
       "      <th>36397</th>\n",
       "      <td>中文自然语言处理多任务中的职业性别偏见测量(Measurement of Occupatio...</td>\n",
       "      <td>Y. Liu 刘</td>\n",
       "    </tr>\n",
       "    <tr>\n",
       "      <th>36398</th>\n",
       "      <td>中文自然语言处理多任务中的职业性别偏见测量(Measurement of Occupatio...</td>\n",
       "      <td>Pengyuan 鹏远 Liu 刘</td>\n",
       "    </tr>\n",
       "  </tbody>\n",
       "</table>\n",
       "</div>"
      ],
      "text/plain": [
       "                                                   Title  \\\n",
       "4089                Gender Roles: Biases or Differences?   \n",
       "4179   從本土企業董事性別比例平衡與績效的關係看性別平等意涵; Corporate Board Ge...   \n",
       "7925   Gender Bias and Resistance in Edna O'Brien's C...   \n",
       "7996   Gender Bias Against Foreign Wives : Analysis o...   \n",
       "9900   Lower Melatonin Secretion in Older Females: Ge...   \n",
       "9901   Lower Melatonin Secretion in Older Females: Ge...   \n",
       "9902   Lower Melatonin Secretion in Older Females: Ge...   \n",
       "9903   Lower Melatonin Secretion in Older Females: Ge...   \n",
       "9904   Lower Melatonin Secretion in Older Females: Ge...   \n",
       "9905   Lower Melatonin Secretion in Older Females: Ge...   \n",
       "9906   Lower Melatonin Secretion in Older Females: Ge...   \n",
       "11034                 Gender Differences in Conversation   \n",
       "11611  Analysis of Gender Differences in Color Reacti...   \n",
       "11647  Deuce or advantage? : examining gender bias in...   \n",
       "27256  Reducing unconscious gender bias through works...   \n",
       "27257  Reducing unconscious gender bias through works...   \n",
       "36204  Gender Bias and Stereotypes in English Example...   \n",
       "36393  中文自然语言处理多任务中的职业性别偏见测量(Measurement of Occupatio...   \n",
       "36394  中文自然语言处理多任务中的职业性别偏见测量(Measurement of Occupatio...   \n",
       "36395  中文自然语言处理多任务中的职业性别偏见测量(Measurement of Occupatio...   \n",
       "36396  中文自然语言处理多任务中的职业性别偏见测量(Measurement of Occupatio...   \n",
       "36397  中文自然语言处理多任务中的职业性别偏见测量(Measurement of Occupatio...   \n",
       "36398  中文自然语言处理多任务中的职业性别偏见测量(Measurement of Occupatio...   \n",
       "\n",
       "                       Author  \n",
       "4089                       魏静  \n",
       "4179                      王孟洵  \n",
       "7925                      張崇旂  \n",
       "7996                    加藤 直子  \n",
       "9900     Kenji 賢史 Obayashi 大林  \n",
       "9901        Keigo 圭吾 Saeki 佐伯  \n",
       "9902      Nobuhiro 庸浩 Tone 刀根  \n",
       "9903      Junko 淳子 Iwamoto 岩本  \n",
       "9904      Kimie 季美恵 Miyata 宮田  \n",
       "9905       Yoshito 義人 Ikada 筏  \n",
       "9906   Norio 典男 Kurumatani 車谷  \n",
       "11034                     陈媛媛  \n",
       "11611                      乔芳  \n",
       "11647                     葉永禧  \n",
       "27256                   三好 葉月  \n",
       "27257                    加藤 朗  \n",
       "36204                    安琪 郑  \n",
       "36393                M. Guo 郭  \n",
       "36394           Jiali 加厉 Li 李  \n",
       "36395        Jishun 继舜 Zhao 赵  \n",
       "36396       Shucheng 述承 Zhu 朱  \n",
       "36397                Y. Liu 刘  \n",
       "36398       Pengyuan 鹏远 Liu 刘  "
      ]
     },
     "execution_count": 320,
     "metadata": {},
     "output_type": "execute_result"
    }
   ],
   "source": [
    "df_authors_re[['Title', 'Author']][df_authors_re['Author'].str.contains(r'[\\u4e00-\\u9FFF]', regex=True)]"
   ]
  },
  {
   "attachments": {},
   "cell_type": "markdown",
   "metadata": {},
   "source": [
    "Often if the author name has Chinese characters, also title would have them, but they are always accompanied with an English title, so we can remove Chinese characters and be sure, that the title will not ne NaN."
   ]
  },
  {
   "cell_type": "code",
   "execution_count": 379,
   "metadata": {},
   "outputs": [],
   "source": [
    "df_authors_re['Title'] = df_authors_re['Title'].str.replace(r'[\\u4e00-\\u9FFF]','', regex=True)"
   ]
  },
  {
   "attachments": {},
   "cell_type": "markdown",
   "metadata": {},
   "source": [
    "We will partially drop rows, where the author column only contains Chinese characters, if in this case the preliminary analysis has shown, that's it'snot possible to find out the full name of the author. For some titles this information was found and will be udated.\n",
    "\n",
    "On the other hand we will keep the rows with mixed Latin and Chinese characters, as they provide the name information and just remove Chinese characters."
   ]
  },
  {
   "cell_type": "code",
   "execution_count": 380,
   "metadata": {},
   "outputs": [
    {
     "name": "stdout",
     "output_type": "stream",
     "text": [
      "39287\n",
      "39280\n"
     ]
    }
   ],
   "source": [
    "titles_drop = ['Deuce or advantage? : examining gender bias in online coverage of professional tennis through a mixed methodology',\n",
    "    'Gender Roles: Biases or Differences?',\n",
    "    'Gender Differences in Conversation',\n",
    "    'Analysis of Gender Differences in Color Reaction in TV Show You Are the One',\n",
    "    'Gender Bias and Stereotypes in English Example Sentences—Taking Linguistic Academic Journals as Example']\n",
    "title_name_drop = ['; Corporate Board Gender Diversity and Firm Financial Performance：The Institutional Investor Bias in Taiwan',\n",
    "    '王孟洵']\n",
    "\n",
    "print(len(df_authors_re))\n",
    "\n",
    "i_toDrop = df_authors_re[(df_authors_re.Title.isin(titles_drop)) |\\\n",
    "    ((df_authors_re.Title == title_name_drop[0]) & \\\n",
    "    (df_authors_re.Author == title_name_drop[1]))].index\n",
    "df_authors_re = df_authors_re.drop(i_toDrop)\n",
    "\n",
    "print(len(df_authors_re))"
   ]
  },
  {
   "cell_type": "code",
   "execution_count": 381,
   "metadata": {},
   "outputs": [
    {
     "name": "stderr",
     "output_type": "stream",
     "text": [
      "C:\\Users\\afedorova\\AppData\\Local\\Temp\\ipykernel_1824\\4128585737.py:1: SettingWithCopyWarning: \n",
      "A value is trying to be set on a copy of a slice from a DataFrame\n",
      "\n",
      "See the caveats in the documentation: https://pandas.pydata.org/pandas-docs/stable/user_guide/indexing.html#returning-a-view-versus-a-copy\n",
      "  df_authors_re['Author'][df_authors_re['Author'].str.contains(r'[\\u4e00-\\u9FFF]', regex=True) & df_authors_re['Author'].str.contains(r'[a-zA-Z]', regex=True)] \\\n"
     ]
    }
   ],
   "source": [
    "df_authors_re['Author'][df_authors_re['Author'].str.contains(r'[\\u4e00-\\u9FFF]', regex=True) & df_authors_re['Author'].str.contains(r'[a-zA-Z]', regex=True)] \\\n",
    "    = df_authors_re['Author'].str.replace(r'[\\u4e00-\\u9FFF]','', regex=True)"
   ]
  },
  {
   "cell_type": "code",
   "execution_count": 382,
   "metadata": {},
   "outputs": [],
   "source": [
    "replace_ChinCharNames = {'張崇旂': 'Tsung-Chi Chang', #'Gender bias and resistance in Edna O’Brien’s “country girls' trilogy”' \n",
    "    '加藤 直子': 'Naoko Kato', #'Gender Bias Against Foreign Wives : Analysis of International Divorce Cases in Japan' \n",
    "    '三好 葉月': 'Hazuki Moyoshi', #'Reducing unconscious gender bias through workshop with co-speculative design'\n",
    "    '加藤 朗': 'Akira Kato'} #'Reducing unconscious gender bias through workshop with co-speculative design'\n",
    "\n",
    "df_authors_re['Author'] = df_authors_re['Author'].replace(replace_ChinCharNames, regex=True)"
   ]
  },
  {
   "cell_type": "code",
   "execution_count": 383,
   "metadata": {},
   "outputs": [
    {
     "data": {
      "text/html": [
       "<div>\n",
       "<style scoped>\n",
       "    .dataframe tbody tr th:only-of-type {\n",
       "        vertical-align: middle;\n",
       "    }\n",
       "\n",
       "    .dataframe tbody tr th {\n",
       "        vertical-align: top;\n",
       "    }\n",
       "\n",
       "    .dataframe thead th {\n",
       "        text-align: right;\n",
       "    }\n",
       "</style>\n",
       "<table border=\"1\" class=\"dataframe\">\n",
       "  <thead>\n",
       "    <tr style=\"text-align: right;\">\n",
       "      <th></th>\n",
       "      <th>Title</th>\n",
       "      <th>Author</th>\n",
       "    </tr>\n",
       "  </thead>\n",
       "  <tbody>\n",
       "  </tbody>\n",
       "</table>\n",
       "</div>"
      ],
      "text/plain": [
       "Empty DataFrame\n",
       "Columns: [Title, Author]\n",
       "Index: []"
      ]
     },
     "execution_count": 383,
     "metadata": {},
     "output_type": "execute_result"
    }
   ],
   "source": [
    "df_authors_re[['Title','Author']][df_authors_re['Author'].str.contains(r'[\\u4e00-\\u9FFF]', regex=True)]"
   ]
  },
  {
   "cell_type": "markdown",
   "metadata": {},
   "source": [
    "#### Search for Hangul (Korean characters)"
   ]
  },
  {
   "cell_type": "code",
   "execution_count": 327,
   "metadata": {},
   "outputs": [
    {
     "data": {
      "text/html": [
       "<div>\n",
       "<style scoped>\n",
       "    .dataframe tbody tr th:only-of-type {\n",
       "        vertical-align: middle;\n",
       "    }\n",
       "\n",
       "    .dataframe tbody tr th {\n",
       "        vertical-align: top;\n",
       "    }\n",
       "\n",
       "    .dataframe thead th {\n",
       "        text-align: right;\n",
       "    }\n",
       "</style>\n",
       "<table border=\"1\" class=\"dataframe\">\n",
       "  <thead>\n",
       "    <tr style=\"text-align: right;\">\n",
       "      <th></th>\n",
       "      <th>Title</th>\n",
       "      <th>Author</th>\n",
       "    </tr>\n",
       "  </thead>\n",
       "  <tbody>\n",
       "    <tr>\n",
       "      <th>154</th>\n",
       "      <td>Gender Bias in Schooling</td>\n",
       "      <td>김기승</td>\n",
       "    </tr>\n",
       "    <tr>\n",
       "      <th>3518</th>\n",
       "      <td>한국가족 내 부부간 성관계에 투영된 젠더 격차(Gender Gap)</td>\n",
       "      <td>함인희</td>\n",
       "    </tr>\n",
       "    <tr>\n",
       "      <th>7894</th>\n",
       "      <td>Gender Differences in Oral Health Literacy rel...</td>\n",
       "      <td>이규은</td>\n",
       "    </tr>\n",
       "    <tr>\n",
       "      <th>7895</th>\n",
       "      <td>Gender Differences in Oral Health Literacy rel...</td>\n",
       "      <td>염영희</td>\n",
       "    </tr>\n",
       "    <tr>\n",
       "      <th>7896</th>\n",
       "      <td>Gender Differences in Oral Health Literacy rel...</td>\n",
       "      <td>김상숙</td>\n",
       "    </tr>\n",
       "    <tr>\n",
       "      <th>7897</th>\n",
       "      <td>Gender Differences in Oral Health Literacy rel...</td>\n",
       "      <td>한정희</td>\n",
       "    </tr>\n",
       "    <tr>\n",
       "      <th>7995</th>\n",
       "      <td>Cultural Linguistic Study on the Chinese Gende...</td>\n",
       "      <td>김현태</td>\n",
       "    </tr>\n",
       "    <tr>\n",
       "      <th>8730</th>\n",
       "      <td>A Study on Factors Influencing Elders' Suicida...</td>\n",
       "      <td>구춘영</td>\n",
       "    </tr>\n",
       "    <tr>\n",
       "      <th>8731</th>\n",
       "      <td>A Study on Factors Influencing Elders' Suicida...</td>\n",
       "      <td>김정순</td>\n",
       "    </tr>\n",
       "    <tr>\n",
       "      <th>8732</th>\n",
       "      <td>A Study on Factors Influencing Elders' Suicida...</td>\n",
       "      <td>유정옥</td>\n",
       "    </tr>\n",
       "    <tr>\n",
       "      <th>23422</th>\n",
       "      <td>An Audience-response Questionnaire Survey on G...</td>\n",
       "      <td>김세현</td>\n",
       "    </tr>\n",
       "  </tbody>\n",
       "</table>\n",
       "</div>"
      ],
      "text/plain": [
       "                                                   Title Author\n",
       "154                             Gender Bias in Schooling    김기승\n",
       "3518               한국가족 내 부부간 성관계에 투영된 젠더 격차(Gender Gap)    함인희\n",
       "7894   Gender Differences in Oral Health Literacy rel...    이규은\n",
       "7895   Gender Differences in Oral Health Literacy rel...    염영희\n",
       "7896   Gender Differences in Oral Health Literacy rel...    김상숙\n",
       "7897   Gender Differences in Oral Health Literacy rel...    한정희\n",
       "7995   Cultural Linguistic Study on the Chinese Gende...    김현태\n",
       "8730   A Study on Factors Influencing Elders' Suicida...    구춘영\n",
       "8731   A Study on Factors Influencing Elders' Suicida...    김정순\n",
       "8732   A Study on Factors Influencing Elders' Suicida...    유정옥\n",
       "23422  An Audience-response Questionnaire Survey on G...    김세현"
      ]
     },
     "execution_count": 327,
     "metadata": {},
     "output_type": "execute_result"
    }
   ],
   "source": [
    "df_authors_re[['Title','Author']][df_authors_re['Author'].str.contains(r'[\\u3131-\\u3163\\uac00-\\ud7a3]', regex=True)]"
   ]
  },
  {
   "cell_type": "code",
   "execution_count": 384,
   "metadata": {},
   "outputs": [
    {
     "data": {
      "text/plain": [
       "39279"
      ]
     },
     "execution_count": 384,
     "metadata": {},
     "output_type": "execute_result"
    }
   ],
   "source": [
    "replace_KorCharNames = {'김기승': 'Seung-Gi Kim',\n",
    "    'M. Milligan': 'Michael A. Milligan',\n",
    "    '이규은': 'Kyu Eun lee', #Gender Differences in Oral Health Literacy\n",
    "    '염영희': 'Young-Hee Yom', #Gender Differences in Oral Health Literacy\n",
    "    '김상숙': 'Sang Suk Kim', #Gender Differences in Oral Health Literacy\n",
    "    '한정희': 'Jung Hee Han', #Gender Differences in Oral Health Literacy\n",
    "    '김현태': 'Kim Hyun Tae', #'Korean' 'Male' #'Cultural Linguistic Study on the Chinese Gender-biased Terms against Women'\n",
    "    '구춘영': 'Chun Young Koo', #A Study on Factors Influencing Elders' Suicidal Ideation: Focused on Comparison of Gender Differences\n",
    "    '김정순': 'Jung Soon Kim', #A Study on Factors Influencing Elders' Suicidal Ideation: Focused on Comparison of Gender Differences\n",
    "    '유정옥': 'Jungok Yu', #A Study on Factors Influencing Elders' Suicidal Ideation: Focused on Comparison of Gender Differences\n",
    "    '김세현': 'Sehyoun Kim'} #An Audience-response Questionnaire Survey on Gender-biased Language in Korean Subtitling}\n",
    "\n",
    "df_authors_re['Author'] = df_authors_re['Author'].replace(replace_KorCharNames, regex=True)\n",
    "i_toDrop = df_authors_re[df_authors_re.Title == '한국가족 내 부부간 성관계에 투영된 젠더 격차(Gender Gap)'].index\n",
    "df_authors_re = df_authors_re.drop(i_toDrop)\n",
    "\n",
    "len(df_authors_re)\n"
   ]
  },
  {
   "attachments": {},
   "cell_type": "markdown",
   "metadata": {},
   "source": [
    "#### Check rows with names, that only contain one word"
   ]
  },
  {
   "cell_type": "code",
   "execution_count": 392,
   "metadata": {},
   "outputs": [
    {
     "data": {
      "text/html": [
       "<div>\n",
       "<style scoped>\n",
       "    .dataframe tbody tr th:only-of-type {\n",
       "        vertical-align: middle;\n",
       "    }\n",
       "\n",
       "    .dataframe tbody tr th {\n",
       "        vertical-align: top;\n",
       "    }\n",
       "\n",
       "    .dataframe thead th {\n",
       "        text-align: right;\n",
       "    }\n",
       "</style>\n",
       "<table border=\"1\" class=\"dataframe\">\n",
       "  <thead>\n",
       "    <tr style=\"text-align: right;\">\n",
       "      <th></th>\n",
       "      <th>Title</th>\n",
       "      <th>Author</th>\n",
       "    </tr>\n",
       "  </thead>\n",
       "  <tbody>\n",
       "  </tbody>\n",
       "</table>\n",
       "</div>"
      ],
      "text/plain": [
       "Empty DataFrame\n",
       "Columns: [Title, Author]\n",
       "Index: []"
      ]
     },
     "execution_count": 392,
     "metadata": {},
     "output_type": "execute_result"
    }
   ],
   "source": [
    "df_authors_re[['Title', 'Author']][~df_authors_re.Author.str.contains('\\s')] #.to_csv('data/onewordnames.csv')\n",
    "    #'^[\\S]\\.[\\S].')] \n",
    "    # #& ~df_authors_re.Author.str.contains('^[a-zA-Z]\\.\\s[\\S].*')]\n"
   ]
  },
  {
   "cell_type": "code",
   "execution_count": 370,
   "metadata": {},
   "outputs": [
    {
     "name": "stdout",
     "output_type": "stream",
     "text": [
      "Series([], Name: Author, dtype: object)\n"
     ]
    }
   ],
   "source": [
    "print(df_authors_re['Author'][df_authors_re.Author.isin(names_short)])"
   ]
  },
  {
   "cell_type": "code",
   "execution_count": 393,
   "metadata": {},
   "outputs": [],
   "source": [
    "names_update = {'K: Hughes': 'Karen D. Hughes',\n",
    "'S. Albanesi': 'Stefania Albanesi',\n",
    "'Nyfed': 'Aysegül Sahin',\n",
    "'Bankole': 'Bankole Fasanya',\n",
    "'Maranda': 'Maranda Mcbride',\n",
    "'Pope-Ford': 'Regina Pope-Ford',\n",
    "'Ntuen': 'Celestine Ntuen',\n",
    "'E. Alpha': 'Ayande Alpha',\n",
    "'Quinetta': 'Quinetta M. Roberson',\n",
    "'Hrebickova': 'Hana Hrebickova',\n",
    "#'M.': 'Gregory S. Parks',\n",
    "'E. Oyeniyi': 'Akande Samson Oyeniyi',\n",
    "'ZhangXiaofei': 'Zhang Xiaofei',\n",
    "'GuoXitong': 'Guo Xitong',\n",
    "'LaiKee-hung': 'Lai Kee-hung',\n",
    "'GuoFeng': 'Guo Feng',\n",
    "'LiChenlei': 'Li Chenlei',\n",
    "'CohenAaron': 'Aaron Cohen',\n",
    "'Ein-MorEliana': 'Eliana Einmor',\n",
    "'StessmanJochanan': 'Jochanan Stessman',\n",
    "'B. Rustin': 'Brett Rustin Nielsen',\n",
    "'R. Foels': 'Rob Foels',\n",
    "'I. GuerdjikovaAnna': 'Anna I. Guerdjikova',\n",
    "'J. BlomThomas': 'Thomas J. Blom',\n",
    "'MoriNicole': 'Nicole Mori',\n",
    "'CasutoLeah': 'Leah Casuto',\n",
    "'KeckPaul E.Jr.': 'Paul E.Jr. Keck',\n",
    "'L. McElroySusan': 'Susan McElroy',\n",
    "'TerranovaVictoria': 'Victoria Terranova',\n",
    "'M. VandiverDonna': 'Donna Vandiver',\n",
    "'GuoXitong': 'Guo Xitong',\n",
    "'HanXiaocui': 'Han Xiaocui',\n",
    "'ZhangXiaofei': 'Zhang Xiaofei',\n",
    "'DangYuanyuan': 'Dang Yuanyuan',\n",
    "'ChenChun': 'Chen Chun',\n",
    "'Corrine': 'Corinne Wilsey',\n",
    "'Hazel-FernandezLeslie': 'Leslie Hazel-Fernandez',\n",
    "'NeroDamion': 'Damion Nero',\n",
    "'MoretzChad': 'Chad Moretz',\n",
    "'SlabaughLane': 'Lane Slabaugh',\n",
    "'MeahYunus': 'Yunus Meah',\n",
    "'BaltzJean': 'Jean Baltz',\n",
    "'CostantinoMary': 'Mary Costantino',\n",
    "'BouchardJonathan': 'Jonathan Bouchard',\n",
    "'Omiya': 'Kazuto Omiya',\n",
    "'S. Gilli': 'Sofia Gilli',\n",
    "'TempletonKim': 'Kim Templeton',\n",
    "'S. Javed': 'Saira Javed',\n",
    "'Umm-e-Siddiqa': 'Umme Siddiqa',\n",
    "'IramZehraBokharey': 'Zehra Iram Bokharey',\n",
    "'J. Turabián': 'Jose Turabián',\n",
    "'ra Moreno-Ruiz': 'Sandra Moreno-Ruiz',\n",
    "'R. Cucho-Jove': 'Raul Cucho-Jove',\n",
    "'ro Villarin-Castro': 'Alejandro Villarin-Castro',\n",
    "'P. Bhattacharya': 'Prabir Bhattacharya',\n",
    "'Amsterdam': 'Marja J Aartsen',\n",
    "'S. Yamtinah': 'Sri Yamtinah',\n",
    "'M. Masykuri': 'Mohammad Masykuri',\n",
    "'A. Ashadi': 'Ashadi Ashadi',\n",
    "'A. Shidiq': 'Ari Syahidul Shidiq',\n",
    "'CarapinhaRené': 'René Carapinha',\n",
    "'E. Choo': 'Esther Choo',\n",
    "'R. DeMayo': 'Robert DeMayo',\n",
    "'Warnakula':'Upuli Warnakula',\n",
    "\"Stephen D. O'Connell\": 'Stephen D. OConnell',\n",
    "\"O'Connell\": 'Stephen D. OConnell',\n",
    "'Baloglu': 'Mustafa Baloğlu',\n",
    "'AuerMichael': 'Michael Auer',\n",
    "'FrauscherBirgit': 'Birgit Frauscher',\n",
    "'HochleitnerMargarethe': 'Margarethe Hochleitner',\n",
    "'HöglBirgit': 'Birgit Högl',\n",
    "'Mzamu-Kampanje': 'Jessica Mzamu-Kampanje',\n",
    "'SudomKerry': 'Kerry Sudom',\n",
    "'GuérinEva': 'Eva Guérin',\n",
    "'E. C. LeeJennifer': 'Jennifer E.C. Lee',\n",
    "'S. Ananiadou': 'Sophia Ananiadou',\n",
    "'Odbal': 'Odbal Odbal',\n",
    "'Y. Hirota': 'Yusuke Hirota',\n",
    "'y-hirota': 'Yuta Nakashima', \n",
    "'O. Steinlein': 'Ortrud Steinlein',\n",
    "'M. Reithmair': 'Marlene Reithmair',\n",
    "'ya Syunyaeva': 'Zulfiya Syunyaeva',\n",
    "'E. Sattler': 'Elke C Sattler',\n",
    "'Anthonius':'Anthonius de Boer',\n",
    "'Denier': 'Nicole Denier',\n",
    "'Gag': 'Gagandeep Singh',\n",
    "'M. Abiodun':'Abiodun M. Gesinde',\n",
    "'Js Oluwafunto':'Oluwafunto J. Sanu'}\n",
    "\n",
    "df_authors_re['Author'] = df_authors_re['Author'].replace(names_update)\n"
   ]
  },
  {
   "cell_type": "code",
   "execution_count": 390,
   "metadata": {},
   "outputs": [
    {
     "name": "stderr",
     "output_type": "stream",
     "text": [
      "C:\\Users\\afedorova\\AppData\\Local\\Temp\\ipykernel_1824\\1923523578.py:32: FutureWarning: The frame.append method is deprecated and will be removed from pandas in a future version. Use pandas.concat instead.\n",
      "  df_authors_re = df_authors_re.append(DataFrame(add_lines,columns=['Author', 'Title'])).reset_index(drop=True)\n"
     ]
    },
    {
     "data": {
      "text/html": [
       "<div>\n",
       "<style scoped>\n",
       "    .dataframe tbody tr th:only-of-type {\n",
       "        vertical-align: middle;\n",
       "    }\n",
       "\n",
       "    .dataframe tbody tr th {\n",
       "        vertical-align: top;\n",
       "    }\n",
       "\n",
       "    .dataframe thead th {\n",
       "        text-align: right;\n",
       "    }\n",
       "</style>\n",
       "<table border=\"1\" class=\"dataframe\">\n",
       "  <thead>\n",
       "    <tr style=\"text-align: right;\">\n",
       "      <th></th>\n",
       "      <th>Title</th>\n",
       "      <th>Year</th>\n",
       "      <th>Author</th>\n",
       "      <th>PublicationType</th>\n",
       "      <th>CitationCount</th>\n",
       "      <th>URL</th>\n",
       "    </tr>\n",
       "  </thead>\n",
       "  <tbody>\n",
       "    <tr>\n",
       "      <th>39211</th>\n",
       "      <td>Racial/ethnic and gender differences in severi...</td>\n",
       "      <td>NaN</td>\n",
       "      <td>Yong Li</td>\n",
       "      <td>NaN</td>\n",
       "      <td>NaN</td>\n",
       "      <td>NaN</td>\n",
       "    </tr>\n",
       "    <tr>\n",
       "      <th>39212</th>\n",
       "      <td>Gender, Age and Body Mass Differences Influenc...</td>\n",
       "      <td>NaN</td>\n",
       "      <td>Jana Vasickova</td>\n",
       "      <td>NaN</td>\n",
       "      <td>NaN</td>\n",
       "      <td>NaN</td>\n",
       "    </tr>\n",
       "    <tr>\n",
       "      <th>39213</th>\n",
       "      <td>Gender, Age and Body Mass Differences Influenc...</td>\n",
       "      <td>NaN</td>\n",
       "      <td>Dorota Groffik</td>\n",
       "      <td>NaN</td>\n",
       "      <td>NaN</td>\n",
       "      <td>NaN</td>\n",
       "    </tr>\n",
       "    <tr>\n",
       "      <th>39214</th>\n",
       "      <td>Gender Differences in Motivation and Learning ...</td>\n",
       "      <td>NaN</td>\n",
       "      <td>Sharon Luise Njet-Moi Tjin A Tsoi</td>\n",
       "      <td>NaN</td>\n",
       "      <td>NaN</td>\n",
       "      <td>NaN</td>\n",
       "    </tr>\n",
       "    <tr>\n",
       "      <th>39215</th>\n",
       "      <td>Gender Differences in Motivation and Learning ...</td>\n",
       "      <td>NaN</td>\n",
       "      <td>Andries Koster</td>\n",
       "      <td>NaN</td>\n",
       "      <td>NaN</td>\n",
       "      <td>NaN</td>\n",
       "    </tr>\n",
       "  </tbody>\n",
       "</table>\n",
       "</div>"
      ],
      "text/plain": [
       "                                                   Title  Year  \\\n",
       "39211  Racial/ethnic and gender differences in severi...   NaN   \n",
       "39212  Gender, Age and Body Mass Differences Influenc...   NaN   \n",
       "39213  Gender, Age and Body Mass Differences Influenc...   NaN   \n",
       "39214  Gender Differences in Motivation and Learning ...   NaN   \n",
       "39215  Gender Differences in Motivation and Learning ...   NaN   \n",
       "\n",
       "                                  Author PublicationType  CitationCount  URL  \n",
       "39211                            Yong Li             NaN            NaN  NaN  \n",
       "39212                     Jana Vasickova             NaN            NaN  NaN  \n",
       "39213                     Dorota Groffik             NaN            NaN  NaN  \n",
       "39214  Sharon Luise Njet-Moi Tjin A Tsoi             NaN            NaN  NaN  \n",
       "39215                     Andries Koster             NaN            NaN  NaN  "
      ]
     },
     "execution_count": 390,
     "metadata": {},
     "output_type": "execute_result"
    }
   ],
   "source": [
    "add_lines = {'Author': ['Mike Martin',\n",
    "        'Daniel Zimprich', \n",
    "        'Noa Garcia', \n",
    "        'Gregory S. Parks', \n",
    "        'Rodney M. Miller', \n",
    "        'Ashadi Ashadi', \n",
    "        'Cecilia O. Alm',\n",
    "        'Reeta Karra',\n",
    "        'Jennifer Lyke',\n",
    "        'Yong Li',\n",
    "        'Jana Vasickova',\n",
    "        'Dorota Groffik',\n",
    "        'Sharon Luise Njet-Moi Tjin A Tsoi',\n",
    "        'Andries Koster'\n",
    "        ],\n",
    "    'Title' : ['Gender differences in level and change in cognitive functioning : Results from the Longitudinal Aging Study',\n",
    "        'Gender differences in level and change in cognitive functioning : Results from the Longitudinal Aging Study',\n",
    "        'Gender and Racial Bias in VisualQuestion Answering Datasets',\n",
    "        'Eighteen Million Cracks: Genders Role in the 2008 Presidential Campaign',\n",
    "        'If the Shoe Fits: A Historical Exploration of Gender Bias in the U.S. Sneaker Industry',\n",
    "        \"Gender differences in students’ attitudes toward science: An analysis of students’ science process skill using testlet instrument\",\n",
    "        'Analyzing Gender Bias in Student Evaluations Acknowledgments',\n",
    "        'Gender Bias in Availability of School Education in Villages - A Study of Kalisindh Thermal Power Project',\n",
    "        'Gender Differences in Perceived Illness, Stress, and Coping in Undergraduates',\n",
    "        'Racial/ethnic and gender differences in severity of diabetes-related complications, health care resource use, and costs in a Medicare population.',\n",
    "        'Gender, Age and Body Mass Differences Influencing the Motivation for Physical Activity among Polish Youths',\n",
    "        'Gender, Age and Body Mass Differences Influencing the Motivation for Physical Activity among Polish Youths',\n",
    "        'Gender Differences in Motivation and Learning Preferences of Pharmacists in Lifelong Learning',\n",
    "        'Gender Differences in Motivation and Learning Preferences of Pharmacists in Lifelong Learning'\n",
    "]}\n",
    "\n",
    "df_authors_re = df_authors_re.append(DataFrame(add_lines,columns=['Author', 'Title'])).reset_index(drop=True)\n",
    "df_authors_re.tail()"
   ]
  },
  {
   "cell_type": "code",
   "execution_count": 388,
   "metadata": {},
   "outputs": [],
   "source": [
    "titles_drop2 = ['Gender-biased Diagnosing', \n",
    "    'Opiorphin Secretion Pattern in Healthy Volunteers: Gender Difference andOrgan Specificity',\n",
    "    \"Gender Bias in Women's Health, Obstetric, and Neonatal Nursing.\"]\n",
    "\n",
    "i_toDrop = df_authors_re[df_authors_re['Title'].isin(titles_drop2)].index\n",
    "df_authors_re = df_authors_re.drop(i_toDrop)"
   ]
  },
  {
   "cell_type": "code",
   "execution_count": 389,
   "metadata": {},
   "outputs": [
    {
     "name": "stdout",
     "output_type": "stream",
     "text": [
      "39268\n",
      "39202\n"
     ]
    }
   ],
   "source": [
    "print(len(df_authors_re))\n",
    "i_noSpace = df_authors_re[~df_authors_re.Author.str.contains('\\s')].index\n",
    "df_authors_re = df_authors_re.drop(i_noSpace)\n",
    "print(len(df_authors_re))"
   ]
  },
  {
   "cell_type": "code",
   "execution_count": 391,
   "metadata": {},
   "outputs": [
    {
     "data": {
      "text/html": [
       "<div>\n",
       "<style scoped>\n",
       "    .dataframe tbody tr th:only-of-type {\n",
       "        vertical-align: middle;\n",
       "    }\n",
       "\n",
       "    .dataframe tbody tr th {\n",
       "        vertical-align: top;\n",
       "    }\n",
       "\n",
       "    .dataframe thead th {\n",
       "        text-align: right;\n",
       "    }\n",
       "</style>\n",
       "<table border=\"1\" class=\"dataframe\">\n",
       "  <thead>\n",
       "    <tr style=\"text-align: right;\">\n",
       "      <th></th>\n",
       "      <th>Title</th>\n",
       "      <th>Year</th>\n",
       "      <th>Author</th>\n",
       "      <th>PublicationType</th>\n",
       "      <th>CitationCount</th>\n",
       "      <th>URL</th>\n",
       "    </tr>\n",
       "  </thead>\n",
       "  <tbody>\n",
       "    <tr>\n",
       "      <th>0</th>\n",
       "      <td>Gender Bias in the Iranian High School EFL Tex...</td>\n",
       "      <td>2012.0</td>\n",
       "      <td>M. Amini</td>\n",
       "      <td>None</td>\n",
       "      <td>85.0</td>\n",
       "      <td>https://www.semanticscholar.org/paper/0ea3d994...</td>\n",
       "    </tr>\n",
       "    <tr>\n",
       "      <th>1</th>\n",
       "      <td>Gender Bias in the Iranian High School EFL Tex...</td>\n",
       "      <td>2012.0</td>\n",
       "      <td>P. Birjandi</td>\n",
       "      <td>None</td>\n",
       "      <td>85.0</td>\n",
       "      <td>https://www.semanticscholar.org/paper/0ea3d994...</td>\n",
       "    </tr>\n",
       "    <tr>\n",
       "      <th>2</th>\n",
       "      <td>Stag Parties Linger: Continued Gender Bias in ...</td>\n",
       "      <td>2012.0</td>\n",
       "      <td>L. Isbell</td>\n",
       "      <td>[JournalArticle]</td>\n",
       "      <td>93.0</td>\n",
       "      <td>https://www.semanticscholar.org/paper/551f36ed...</td>\n",
       "    </tr>\n",
       "    <tr>\n",
       "      <th>3</th>\n",
       "      <td>Stag Parties Linger: Continued Gender Bias in ...</td>\n",
       "      <td>2012.0</td>\n",
       "      <td>T. Young</td>\n",
       "      <td>[JournalArticle]</td>\n",
       "      <td>93.0</td>\n",
       "      <td>https://www.semanticscholar.org/paper/551f36ed...</td>\n",
       "    </tr>\n",
       "    <tr>\n",
       "      <th>4</th>\n",
       "      <td>Stag Parties Linger: Continued Gender Bias in ...</td>\n",
       "      <td>2012.0</td>\n",
       "      <td>A. Harcourt</td>\n",
       "      <td>[JournalArticle]</td>\n",
       "      <td>93.0</td>\n",
       "      <td>https://www.semanticscholar.org/paper/551f36ed...</td>\n",
       "    </tr>\n",
       "    <tr>\n",
       "      <th>...</th>\n",
       "      <td>...</td>\n",
       "      <td>...</td>\n",
       "      <td>...</td>\n",
       "      <td>...</td>\n",
       "      <td>...</td>\n",
       "      <td>...</td>\n",
       "    </tr>\n",
       "    <tr>\n",
       "      <th>39211</th>\n",
       "      <td>Racial/ethnic and gender differences in severi...</td>\n",
       "      <td>NaN</td>\n",
       "      <td>Yong Li</td>\n",
       "      <td>NaN</td>\n",
       "      <td>NaN</td>\n",
       "      <td>NaN</td>\n",
       "    </tr>\n",
       "    <tr>\n",
       "      <th>39212</th>\n",
       "      <td>Gender, Age and Body Mass Differences Influenc...</td>\n",
       "      <td>NaN</td>\n",
       "      <td>Jana Vasickova</td>\n",
       "      <td>NaN</td>\n",
       "      <td>NaN</td>\n",
       "      <td>NaN</td>\n",
       "    </tr>\n",
       "    <tr>\n",
       "      <th>39213</th>\n",
       "      <td>Gender, Age and Body Mass Differences Influenc...</td>\n",
       "      <td>NaN</td>\n",
       "      <td>Dorota Groffik</td>\n",
       "      <td>NaN</td>\n",
       "      <td>NaN</td>\n",
       "      <td>NaN</td>\n",
       "    </tr>\n",
       "    <tr>\n",
       "      <th>39214</th>\n",
       "      <td>Gender Differences in Motivation and Learning ...</td>\n",
       "      <td>NaN</td>\n",
       "      <td>Sharon Luise Njet-Moi Tjin A Tsoi</td>\n",
       "      <td>NaN</td>\n",
       "      <td>NaN</td>\n",
       "      <td>NaN</td>\n",
       "    </tr>\n",
       "    <tr>\n",
       "      <th>39215</th>\n",
       "      <td>Gender Differences in Motivation and Learning ...</td>\n",
       "      <td>NaN</td>\n",
       "      <td>Andries Koster</td>\n",
       "      <td>NaN</td>\n",
       "      <td>NaN</td>\n",
       "      <td>NaN</td>\n",
       "    </tr>\n",
       "  </tbody>\n",
       "</table>\n",
       "<p>39216 rows × 6 columns</p>\n",
       "</div>"
      ],
      "text/plain": [
       "                                                   Title    Year  \\\n",
       "0      Gender Bias in the Iranian High School EFL Tex...  2012.0   \n",
       "1      Gender Bias in the Iranian High School EFL Tex...  2012.0   \n",
       "2      Stag Parties Linger: Continued Gender Bias in ...  2012.0   \n",
       "3      Stag Parties Linger: Continued Gender Bias in ...  2012.0   \n",
       "4      Stag Parties Linger: Continued Gender Bias in ...  2012.0   \n",
       "...                                                  ...     ...   \n",
       "39211  Racial/ethnic and gender differences in severi...     NaN   \n",
       "39212  Gender, Age and Body Mass Differences Influenc...     NaN   \n",
       "39213  Gender, Age and Body Mass Differences Influenc...     NaN   \n",
       "39214  Gender Differences in Motivation and Learning ...     NaN   \n",
       "39215  Gender Differences in Motivation and Learning ...     NaN   \n",
       "\n",
       "                                  Author   PublicationType  CitationCount  \\\n",
       "0                               M. Amini              None           85.0   \n",
       "1                            P. Birjandi              None           85.0   \n",
       "2                              L. Isbell  [JournalArticle]           93.0   \n",
       "3                               T. Young  [JournalArticle]           93.0   \n",
       "4                            A. Harcourt  [JournalArticle]           93.0   \n",
       "...                                  ...               ...            ...   \n",
       "39211                            Yong Li               NaN            NaN   \n",
       "39212                     Jana Vasickova               NaN            NaN   \n",
       "39213                     Dorota Groffik               NaN            NaN   \n",
       "39214  Sharon Luise Njet-Moi Tjin A Tsoi               NaN            NaN   \n",
       "39215                     Andries Koster               NaN            NaN   \n",
       "\n",
       "                                                     URL  \n",
       "0      https://www.semanticscholar.org/paper/0ea3d994...  \n",
       "1      https://www.semanticscholar.org/paper/0ea3d994...  \n",
       "2      https://www.semanticscholar.org/paper/551f36ed...  \n",
       "3      https://www.semanticscholar.org/paper/551f36ed...  \n",
       "4      https://www.semanticscholar.org/paper/551f36ed...  \n",
       "...                                                  ...  \n",
       "39211                                                NaN  \n",
       "39212                                                NaN  \n",
       "39213                                                NaN  \n",
       "39214                                                NaN  \n",
       "39215                                                NaN  \n",
       "\n",
       "[39216 rows x 6 columns]"
      ]
     },
     "execution_count": 391,
     "metadata": {},
     "output_type": "execute_result"
    }
   ],
   "source": [
    "df_authors_re"
   ]
  },
  {
   "attachments": {},
   "cell_type": "markdown",
   "metadata": {},
   "source": [
    "#### Other strange cases"
   ]
  },
  {
   "attachments": {},
   "cell_type": "markdown",
   "metadata": {},
   "source": [
    "Rename some titles, that don't correspond fully to original paper title."
   ]
  },
  {
   "cell_type": "code",
   "execution_count": 394,
   "metadata": {},
   "outputs": [],
   "source": [
    "# 'https://www.semanticscholar.org/paper/b5612cc672817a7d65faf8c273550858b63790a2'\n",
    "rename_title = {'Re; Pandit SR, Venugopal P, Keshavamurthy R, Chawla A. Challenges and gender-based differences for women in the Indian urological workforce: Results of a survey. Indian J Urol 2022;38:282-6':\\\n",
    "        'Challenges and gender-based differences for women in the Indian urological workforce: Results of a survey',\n",
    "    'SUCCESSFUL TITLE VII CLAIM FOR IMPLICIT GENDER BIAS ? A . Implicit Bias : A Definition B . Implicit Gender Bias , Title VII , and the Clinton Campaign':\\\n",
    "        'Eighteen Million Cracks: Genders Role in the 2008 Presidential Campaign'}\n",
    "\n",
    "df_authors_re['Title'] = df_authors_re.Title.replace(rename_title)\n",
    "\n",
    "name_toDrop = df_authors_re[df_authors_re.Author == 'for the Colon Cancer Family Registry'].index\n",
    "df_authors_re = df_authors_re.drop(name_toDrop)"
   ]
  },
  {
   "cell_type": "markdown",
   "metadata": {},
   "source": [
    "Check the rename results"
   ]
  },
  {
   "cell_type": "code",
   "execution_count": 396,
   "metadata": {},
   "outputs": [
    {
     "data": {
      "text/plain": [
       "Series([], Name: Title, dtype: object)"
      ]
     },
     "execution_count": 396,
     "metadata": {},
     "output_type": "execute_result"
    }
   ],
   "source": [
    "df_authors_re['Title'][df_authors_re['Title'].isin(rename_title.values())]"
   ]
  },
  {
   "cell_type": "code",
   "execution_count": 397,
   "metadata": {},
   "outputs": [],
   "source": [
    "df_authors_re.to_csv('data/authors_2012-2023_regex.csv')"
   ]
  },
  {
   "attachments": {},
   "cell_type": "markdown",
   "metadata": {},
   "source": [
    "### Find rows with full names"
   ]
  },
  {
   "attachments": {},
   "cell_type": "markdown",
   "metadata": {},
   "source": [
    "create two DF, with full names and with short names"
   ]
  },
  {
   "cell_type": "code",
   "execution_count": 486,
   "metadata": {},
   "outputs": [
    {
     "name": "stdout",
     "output_type": "stream",
     "text": [
      "Length of DF with full names is 15516\n",
      "Length of DF with short names is 23700\n"
     ]
    }
   ],
   "source": [
    "df_authors_full = df_authors_re[~df_authors_re.Author.str.contains('^[\\S]\\.\\s[\\S].*|^[\\S]\\.\\s[\\S]\\.|^[\\S]\\.[\\S].')].reset_index(drop=True)\n",
    "    #~df_authors_re.Author.str.contains('^[\\S]\\.\\s[\\S]\\.*]')]\n",
    "df_authors_short = df_authors_re[df_authors_re.Author.str.contains('^[\\S]\\.\\s[\\S].*|^[\\S]\\.\\s[\\S]\\.|^[\\S]\\.[\\S].')].reset_index(drop=True)\n",
    "    #df_authors_re.Author.str.contains('^[\\S]\\.\\s[\\S]\\.')]\n",
    "print('Length of DF with full names is ', len(df_authors_full), '\\n', 'Length of DF with short names is ', len(df_authors_short), sep='')"
   ]
  },
  {
   "attachments": {},
   "cell_type": "markdown",
   "metadata": {},
   "source": [
    "check if there are any authors in both df due to a mistake in regex"
   ]
  },
  {
   "cell_type": "code",
   "execution_count": 399,
   "metadata": {},
   "outputs": [
    {
     "data": {
      "text/html": [
       "<div>\n",
       "<style scoped>\n",
       "    .dataframe tbody tr th:only-of-type {\n",
       "        vertical-align: middle;\n",
       "    }\n",
       "\n",
       "    .dataframe tbody tr th {\n",
       "        vertical-align: top;\n",
       "    }\n",
       "\n",
       "    .dataframe thead th {\n",
       "        text-align: right;\n",
       "    }\n",
       "</style>\n",
       "<table border=\"1\" class=\"dataframe\">\n",
       "  <thead>\n",
       "    <tr style=\"text-align: right;\">\n",
       "      <th></th>\n",
       "      <th>Title</th>\n",
       "      <th>Year</th>\n",
       "      <th>Author</th>\n",
       "      <th>PublicationType</th>\n",
       "      <th>CitationCount</th>\n",
       "      <th>URL</th>\n",
       "    </tr>\n",
       "  </thead>\n",
       "  <tbody>\n",
       "  </tbody>\n",
       "</table>\n",
       "</div>"
      ],
      "text/plain": [
       "Empty DataFrame\n",
       "Columns: [Title, Year, Author, PublicationType, CitationCount, URL]\n",
       "Index: []"
      ]
     },
     "execution_count": 399,
     "metadata": {},
     "output_type": "execute_result"
    }
   ],
   "source": [
    "df_authors_full[df_authors_full['Author'].isin(df_authors_short['Author'])] #[df_authors.Author.str.contains('^[A-Za-z]{1}\\.\\s[A-Za-z-]{2,50}')]"
   ]
  },
  {
   "attachments": {},
   "cell_type": "markdown",
   "metadata": {},
   "source": [
    "check some problematic cases"
   ]
  },
  {
   "cell_type": "code",
   "execution_count": 400,
   "metadata": {},
   "outputs": [
    {
     "name": "stdout",
     "output_type": "stream",
     "text": [
      "37272    G. Ríos-Muñoz\n",
      "Name: Author, dtype: object\n",
      "34619    A. van Mark\n",
      "Name: Author, dtype: object\n",
      "20307    Á. M. Fidalgo\n",
      "Name: Author, dtype: object\n",
      "27359    C. Çöteli\n",
      "Name: Author, dtype: object\n",
      "3357    K. Židová\n",
      "Name: Author, dtype: object\n",
      "38231    Á. Szabó-Morvai\n",
      "Name: Author, dtype: object\n"
     ]
    }
   ],
   "source": [
    "print(df_authors_short['Author'][df_authors_short['Author']=='G. Ríos-Muñoz'],\n",
    "    df_authors_short['Author'][df_authors_short['Author']=='A. van Mark'],\n",
    "    df_authors_short['Author'][df_authors_short['Author']=='Á. M. Fidalgo'],\n",
    "    df_authors_short['Author'][df_authors_short['Author']=='C. Çöteli'], \n",
    "    df_authors_short['Author'][df_authors_short['Author']=='K. Židová'], \n",
    "    df_authors_short['Author'][df_authors_short['Author']=='Á. Szabó-Morvai'], sep='\\n')"
   ]
  },
  {
   "attachments": {},
   "cell_type": "markdown",
   "metadata": {},
   "source": [
    "Print the info about resulting dataframes"
   ]
  },
  {
   "cell_type": "code",
   "execution_count": 487,
   "metadata": {},
   "outputs": [
    {
     "name": "stdout",
     "output_type": "stream",
     "text": [
      "In the final search there are 10536 publications from 33714 authors\n",
      "7444 publications have 13720 full names\n",
      "5056 publications have both forms of author names\n",
      "12405 author names have to be corrected\n",
      "2388 publications have 8598 authors with only short forms \n"
     ]
    }
   ],
   "source": [
    "print(f'In the final search there are {df_authors_re.Title.nunique()} publications from {df_authors_re.Author.nunique()} authors')\n",
    "print(f'{df_authors_full.Title.nunique()} publications have {df_authors_full.Author.nunique()} full names')\n",
    "print(f'{df_authors_full[df_authors_full.Title.isin(df_authors_short.Title.unique())].Title.nunique()} publications have both forms of author names')\n",
    "print(f'{df_authors_short[df_authors_short.Title.isin(df_authors_full.Title.unique())].Author.nunique()} author names have to be corrected')\n",
    "print(f'{df_authors_full[~df_authors_full.Title.isin(df_authors_short.Title.unique())].Title.nunique()} publications \\\n",
    "have {df_authors_short[~df_authors_short.Title.isin(df_authors_full.Title.unique())].Author.nunique()} authors with only short forms ')"
   ]
  },
  {
   "cell_type": "code",
   "execution_count": 488,
   "metadata": {},
   "outputs": [
    {
     "data": {
      "text/plain": [
       "2012.0    1190\n",
       "2013.0    1106\n",
       "2014.0    1183\n",
       "2015.0    1283\n",
       "2016.0    1377\n",
       "2017.0    1510\n",
       "2018.0    1506\n",
       "2019.0    1580\n",
       "2020.0     633\n",
       "2021.0    1889\n",
       "2022.0    1817\n",
       "2023.0     428\n",
       "Name: Year, dtype: int64"
      ]
     },
     "execution_count": 488,
     "metadata": {},
     "output_type": "execute_result"
    }
   ],
   "source": [
    "df_authors_full.Year.value_counts(sort=False)"
   ]
  },
  {
   "cell_type": "code",
   "execution_count": null,
   "metadata": {},
   "outputs": [],
   "source": [
    "#df_authors_full[['First name', 'Last name', 'Middle names']] = df_authors_full.Author.str.split(expand=True)"
   ]
  },
  {
   "cell_type": "code",
   "execution_count": 489,
   "metadata": {},
   "outputs": [],
   "source": [
    "def name_separator(fullName):\n",
    "    name = fullName.split()\n",
    "    if len(name) > 2:\n",
    "        firstName = name[0]\n",
    "        lastName = name[-1]\n",
    "        middleName = ' '.join(name[1:-1])\n",
    "        return firstName, lastName, middleName\n",
    "    elif len(name) == 2:\n",
    "        firstName = name[0]\n",
    "        lastName = name[1]\n",
    "        return firstName, lastName, None\n",
    "\n",
    "df_authors_full[['FirstName', 'LastName', 'MiddleName']] = df_authors_full.apply(lambda x: name_separator(x.Author), axis=1, result_type=\"expand\")\n",
    "\n",
    "     #.str.split(expand=True)"
   ]
  },
  {
   "cell_type": "code",
   "execution_count": null,
   "metadata": {},
   "outputs": [],
   "source": [
    "# Alternative: https://stackoverflow.com/questions/38437847/pandas-split-name-column-into-first-and-last-name-if-contains-one-space\n",
    "# name_df[['first_name','last_name']] = name_df['name'].loc[name_df['name'].str.split().str.len() == 2].str.split(expand=True)"
   ]
  },
  {
   "cell_type": "code",
   "execution_count": 490,
   "metadata": {},
   "outputs": [
    {
     "data": {
      "text/html": [
       "<div>\n",
       "<style scoped>\n",
       "    .dataframe tbody tr th:only-of-type {\n",
       "        vertical-align: middle;\n",
       "    }\n",
       "\n",
       "    .dataframe tbody tr th {\n",
       "        vertical-align: top;\n",
       "    }\n",
       "\n",
       "    .dataframe thead th {\n",
       "        text-align: right;\n",
       "    }\n",
       "</style>\n",
       "<table border=\"1\" class=\"dataframe\">\n",
       "  <thead>\n",
       "    <tr style=\"text-align: right;\">\n",
       "      <th></th>\n",
       "      <th>Author</th>\n",
       "      <th>FirstName</th>\n",
       "      <th>LastName</th>\n",
       "      <th>MiddleName</th>\n",
       "    </tr>\n",
       "  </thead>\n",
       "  <tbody>\n",
       "    <tr>\n",
       "      <th>0</th>\n",
       "      <td>Laura V. Zimmermann</td>\n",
       "      <td>Laura</td>\n",
       "      <td>Zimmermann</td>\n",
       "      <td>V.</td>\n",
       "    </tr>\n",
       "    <tr>\n",
       "      <th>1</th>\n",
       "      <td>Seyyed Ahmad Mousavi</td>\n",
       "      <td>Seyyed</td>\n",
       "      <td>Mousavi</td>\n",
       "      <td>Ahmad</td>\n",
       "    </tr>\n",
       "    <tr>\n",
       "      <th>4</th>\n",
       "      <td>Margaret S. Stockdale</td>\n",
       "      <td>Margaret</td>\n",
       "      <td>Stockdale</td>\n",
       "      <td>S.</td>\n",
       "    </tr>\n",
       "    <tr>\n",
       "      <th>6</th>\n",
       "      <td>Seyyed Ahmad Mousavi</td>\n",
       "      <td>Seyyed</td>\n",
       "      <td>Mousavi</td>\n",
       "      <td>Ahmad</td>\n",
       "    </tr>\n",
       "    <tr>\n",
       "      <th>7</th>\n",
       "      <td>Judith Sama Yeba</td>\n",
       "      <td>Judith</td>\n",
       "      <td>Yeba</td>\n",
       "      <td>Sama</td>\n",
       "    </tr>\n",
       "    <tr>\n",
       "      <th>...</th>\n",
       "      <td>...</td>\n",
       "      <td>...</td>\n",
       "      <td>...</td>\n",
       "      <td>...</td>\n",
       "    </tr>\n",
       "    <tr>\n",
       "      <th>15487</th>\n",
       "      <td>Anna M. Stadelman</td>\n",
       "      <td>Anna</td>\n",
       "      <td>Stadelman</td>\n",
       "      <td>M.</td>\n",
       "    </tr>\n",
       "    <tr>\n",
       "      <th>15505</th>\n",
       "      <td>Gregory S. Parks</td>\n",
       "      <td>Gregory</td>\n",
       "      <td>Parks</td>\n",
       "      <td>S.</td>\n",
       "    </tr>\n",
       "    <tr>\n",
       "      <th>15506</th>\n",
       "      <td>Rodney M. Miller</td>\n",
       "      <td>Rodney</td>\n",
       "      <td>Miller</td>\n",
       "      <td>M.</td>\n",
       "    </tr>\n",
       "    <tr>\n",
       "      <th>15508</th>\n",
       "      <td>Cecilia O. Alm</td>\n",
       "      <td>Cecilia</td>\n",
       "      <td>Alm</td>\n",
       "      <td>O.</td>\n",
       "    </tr>\n",
       "    <tr>\n",
       "      <th>15514</th>\n",
       "      <td>Sharon Luise Njet-Moi Tjin A Tsoi</td>\n",
       "      <td>Sharon</td>\n",
       "      <td>Tsoi</td>\n",
       "      <td>Luise Njet-Moi Tjin A</td>\n",
       "    </tr>\n",
       "  </tbody>\n",
       "</table>\n",
       "<p>4203 rows × 4 columns</p>\n",
       "</div>"
      ],
      "text/plain": [
       "                                  Author FirstName    LastName  \\\n",
       "0                    Laura V. Zimmermann     Laura  Zimmermann   \n",
       "1                   Seyyed Ahmad Mousavi    Seyyed     Mousavi   \n",
       "4                  Margaret S. Stockdale  Margaret   Stockdale   \n",
       "6                   Seyyed Ahmad Mousavi    Seyyed     Mousavi   \n",
       "7                       Judith Sama Yeba    Judith        Yeba   \n",
       "...                                  ...       ...         ...   \n",
       "15487                  Anna M. Stadelman      Anna   Stadelman   \n",
       "15505                   Gregory S. Parks   Gregory       Parks   \n",
       "15506                   Rodney M. Miller    Rodney      Miller   \n",
       "15508                     Cecilia O. Alm   Cecilia         Alm   \n",
       "15514  Sharon Luise Njet-Moi Tjin A Tsoi    Sharon        Tsoi   \n",
       "\n",
       "                  MiddleName  \n",
       "0                         V.  \n",
       "1                      Ahmad  \n",
       "4                         S.  \n",
       "6                      Ahmad  \n",
       "7                       Sama  \n",
       "...                      ...  \n",
       "15487                     M.  \n",
       "15505                     S.  \n",
       "15506                     M.  \n",
       "15508                     O.  \n",
       "15514  Luise Njet-Moi Tjin A  \n",
       "\n",
       "[4203 rows x 4 columns]"
      ]
     },
     "execution_count": 490,
     "metadata": {},
     "output_type": "execute_result"
    }
   ],
   "source": [
    "df_authors_full[['Author','FirstName', 'LastName', 'MiddleName']][~df_authors_full['MiddleName'].isna()]"
   ]
  },
  {
   "cell_type": "code",
   "execution_count": 407,
   "metadata": {},
   "outputs": [
    {
     "data": {
      "text/plain": [
       "['Glenn Hardaker',\n",
       " 'Gail M. Williams',\n",
       " 'Roger Kingerlee',\n",
       " 'Fabian Kosse',\n",
       " 'Laura N MacMullin',\n",
       " 'Irina Rets',\n",
       " 'Emma A Gans',\n",
       " 'Noah J. Kaplan',\n",
       " 'Yi-Qing Yang',\n",
       " 'Danika I. DesRoches',\n",
       " 'Youngji Kim',\n",
       " 'Yingping Liu',\n",
       " 'Lukas Retzer',\n",
       " 'Emma von Essen',\n",
       " 'MR Chiappetta',\n",
       " \"Patricia O'Rourke\",\n",
       " 'Shawn M. Bergman',\n",
       " 'Elena Manzoni',\n",
       " 'Shih-Huang Lee',\n",
       " 'Giulia Antonelli',\n",
       " 'Maithili S. Umate',\n",
       " 'Roopa Gurm',\n",
       " 'Megan Oka',\n",
       " 'Jessica Greenawalt',\n",
       " 'Sanjay Singh',\n",
       " 'Ryuhei So',\n",
       " 'Ritesh Kumar',\n",
       " 'Rui Hu',\n",
       " 'Mengya Yang',\n",
       " 'Akira Nakayama',\n",
       " 'Joel R. Anderson',\n",
       " 'Maria Kanwal',\n",
       " 'Zeyu Xiao',\n",
       " 'Ishara Sahama',\n",
       " 'Sławomir Jandziś',\n",
       " 'Omar Ruvalcaba',\n",
       " 'Bas van Leeuwen',\n",
       " 'Jennifer Gatewood Owens',\n",
       " 'Corali Bel',\n",
       " 'Katerina P. Günter',\n",
       " 'Lalini Ramanathan',\n",
       " 'Ansh Mittal',\n",
       " 'Ya-song Wu',\n",
       " 'Cristiano Ciappei',\n",
       " 'Christa E. Kiersch',\n",
       " 'Huda Haider Al Sayed Ahmed',\n",
       " 'Yoshito  Ikada ',\n",
       " 'Nik Thompson',\n",
       " 'Kara Kedrick',\n",
       " 'Norah Alshareef',\n",
       " 'Hyunsik Kang',\n",
       " 'Kagari Shibazaki',\n",
       " 'Ursula Kessels',\n",
       " 'Mengqi Li',\n",
       " 'Hongmei Li',\n",
       " 'Jagoda Żurek',\n",
       " 'LI Zhou',\n",
       " 'Carla Palumbo',\n",
       " 'Amanda Yoshizaki',\n",
       " 'Chao Xu',\n",
       " 'Daniel J. Martin',\n",
       " 'Darcy F. Phelan',\n",
       " 'Annett Schöttle',\n",
       " 'Mandy Yan Dang',\n",
       " 'Sophia Belghiti-mahut',\n",
       " 'Ryan Bernhisel',\n",
       " 'Linda N. Bakken',\n",
       " 'Desire G Pérez',\n",
       " 'Francine D. Blau',\n",
       " 'Lence A. Veličkovska',\n",
       " 'Roland Eßl-Maurer',\n",
       " 'Rajpreet Kaur',\n",
       " 'Füsun Çuhadaroğlu-Çetin',\n",
       " 'Judith A. McDonald',\n",
       " 'Shannon R. Kenney',\n",
       " 'Stefanie Hostettler',\n",
       " 'Shawna Mastro',\n",
       " 'Hee-Joo Lee',\n",
       " 'Dae-Hyun Kim',\n",
       " 'Burcu Kumbul Guler',\n",
       " 'Veronika S Bailey',\n",
       " 'Wei Wei',\n",
       " 'Anna U Morgan',\n",
       " 'Anjalie Field',\n",
       " 'Paola Cordón',\n",
       " 'Paul Embleton',\n",
       " 'Olga C. Mastrodemos',\n",
       " 'Ayanabha Chakraborti',\n",
       " 'Seungwon Jeong',\n",
       " 'Carrie L. Johnson',\n",
       " 'Ji-Hyun Kim',\n",
       " 'Yufee Xiang',\n",
       " 'Ting Xu',\n",
       " 'Nikola Ferara',\n",
       " 'Bahareh Eslami',\n",
       " 'Renier Steyn',\n",
       " 'Tajudaullah Bhaloo',\n",
       " 'Hui Yang',\n",
       " 'Elena Rivo-López',\n",
       " 'Charles-Olivier Betansedi',\n",
       " 'Corey M. Angst',\n",
       " 'Shing‐Tai Pan',\n",
       " 'Hao Liu',\n",
       " 'Corine Stella Kana Kenfack',\n",
       " 'Li-Jiao Song',\n",
       " 'Jebril Gebril',\n",
       " 'Maria Rita Leucci',\n",
       " 'Lisa K. J. Kuron',\n",
       " 'Donald V. Fischer',\n",
       " 'Tracy E. Madsen',\n",
       " 'Shashank Kumbarahalli Jawaregowda',\n",
       " 'Elsa Vazquez Arreola',\n",
       " 'Ke Yang',\n",
       " 'Ai Morita',\n",
       " 'Peter Dedeken',\n",
       " 'Keng-Han Lin',\n",
       " 'Erwanda Resti Chaerunnisa',\n",
       " 'Gao Chang-chun',\n",
       " 'Michal Apollo',\n",
       " 'Maria Letizia Zanier',\n",
       " 'George C. Thornton III',\n",
       " 'Jinyan Wang',\n",
       " 'Bashar Awwad Shiekh Hasan',\n",
       " 'Atefeh Goshvarpour',\n",
       " 'Bao-Liang Lu',\n",
       " 'Peter B. Jones',\n",
       " 'Mercedes-Lulilea Ferrer-Mejía',\n",
       " 'Dr. Ramesh D. Waghmare',\n",
       " 'Min Wu',\n",
       " 'Pian Shu',\n",
       " 'Cheol-Young Park',\n",
       " 'Julian Parris',\n",
       " 'Maria Noelle Noriega',\n",
       " 'Kristen M. Seiler',\n",
       " 'David R. Hansen',\n",
       " 'Kerstin P Hofmann',\n",
       " 'Mingan Yang',\n",
       " 'Sara Saltzer',\n",
       " 'Aditi Das',\n",
       " 'Seockhoon Chung',\n",
       " 'Samuel J. Lin',\n",
       " 'Vengesai Magadzire',\n",
       " 'Eun-Jin Lee',\n",
       " 'Xue Yan',\n",
       " 'Parvina Islamova',\n",
       " 'Zipporah Pewat Duguryil',\n",
       " 'Jiwei Sun',\n",
       " 'František Chmelík',\n",
       " 'Selena T. Garrison',\n",
       " 'Lindsay Lee',\n",
       " 'Tiancheng Zhang',\n",
       " 'Jonathan Woon',\n",
       " 'Daniel B. Hajovsky',\n",
       " 'Andrei V. Potlogea',\n",
       " 'Araceli Ortega–Díaz',\n",
       " 'Xihua Fu',\n",
       " 'Michael G. DeCrescenzo',\n",
       " 'Arjun Dayal',\n",
       " 'Edmond C Lemon',\n",
       " 'Matthew M. Rivas-Koehl',\n",
       " 'Javier Ferrando',\n",
       " 'Shu-pei Zhou',\n",
       " 'Dhita Tri Wahyuningsih',\n",
       " 'Jivianne T. Lee',\n",
       " 'Michelle Louden',\n",
       " 'Keisha D. Pressley',\n",
       " 'Tatiana Lai',\n",
       " 'Steve Oswald',\n",
       " 'Sabrina Moran',\n",
       " 'Brad A. Keith',\n",
       " 'Dalam Novel “NAMAKU',\n",
       " 'Vicki Osborne',\n",
       " 'Melissa Czarapata',\n",
       " 'Rania Abdullah',\n",
       " 'Dora Gicheva',\n",
       " 'Dipakkumar R. Prajapati',\n",
       " 'Nicolas Ballier',\n",
       " 'Lourdes Munduate',\n",
       " 'Taylor St John',\n",
       " 'Luanne Thorndyke',\n",
       " 'Nadir Altinok',\n",
       " 'Lynne L. Manganaro',\n",
       " 'Mark G L Sayers',\n",
       " 'Jun-Nan Li',\n",
       " 'Francesca Valsesia',\n",
       " 'James Carter',\n",
       " 'Ankur Singh',\n",
       " 'Ming‐Hsuan Lee',\n",
       " 'Hamish Low',\n",
       " 'Alice F. Stuhlmacher',\n",
       " 'Davinder Kaur',\n",
       " 'Umme Siddiqa',\n",
       " 'Ruyi Xia',\n",
       " 'Hang Ye',\n",
       " 'Renée B. Adams',\n",
       " 'Kuang-Te Wang',\n",
       " 'Kevin Gay',\n",
       " 'Nesa E. Wasarhaley',\n",
       " 'Geoff F. Kaufman',\n",
       " 'Ozlem Akkoyun Sert',\n",
       " 'Nicole L. Nollen',\n",
       " 'Shrey Chopra',\n",
       " 'Al Khyeli',\n",
       " 'Caroline Criado-Perez',\n",
       " 'Katja Theune',\n",
       " 'Amy E. Houlihan',\n",
       " 'Bryan Stiles',\n",
       " 'Dorota Groffik',\n",
       " 'Fátima O Martins',\n",
       " 'Mengdie Li',\n",
       " 'Megumi Sato',\n",
       " 'Angeli Santos',\n",
       " 'Nazish Zaman Khan',\n",
       " 'Quentin Spilliaert',\n",
       " 'David C. Maré',\n",
       " 'Shucheng  Zhu ',\n",
       " 'Sarah A. Lechago',\n",
       " 'Ke Zhang',\n",
       " 'Chieh-Lun Hsiao',\n",
       " 'Jennifer A. Rock-Klotz',\n",
       " 'Gregory Cohen',\n",
       " 'Laura Huang',\n",
       " 'Yvonne Lott',\n",
       " 'Ishani Ganguli',\n",
       " 'Marja J Aartsen',\n",
       " 'Emma Zanoli',\n",
       " 'Francisco Pascual-Pastor',\n",
       " 'Seiji Isotani',\n",
       " 'Guoxing Soon',\n",
       " 'Giota Stratou',\n",
       " 'Jennifer Shucard',\n",
       " 'Ru-Chu Shih',\n",
       " 'Shalini Aiyappa',\n",
       " 'Anna Severin',\n",
       " 'Anna Maccagnan',\n",
       " 'Jia-kuo Yu',\n",
       " 'Anja Eller',\n",
       " 'Amita Gupta',\n",
       " 'Haixia Zhang',\n",
       " 'Mary B. Stebbins',\n",
       " 'Ismail Aemn',\n",
       " 'Jiansong Yuan',\n",
       " 'Yu Zhang',\n",
       " 'Cory Schmidt',\n",
       " 'Caroline Andler',\n",
       " 'Sami Zhioua',\n",
       " 'Abdullah A. A. A. Alrashed',\n",
       " 'Chih-Ching Wu',\n",
       " 'Jeanne Kochkodan',\n",
       " 'Jana Nikitin',\n",
       " 'Cristina Yáñez de Aldecoa',\n",
       " 'Sabine Kastner',\n",
       " 'Zuhkhriyan Zakaria',\n",
       " 'Chunsheng Xu',\n",
       " 'Hyun Jin Kim',\n",
       " 'Ravi Lonkani',\n",
       " 'Silvana C Caetano',\n",
       " 'André Didierjean',\n",
       " 'Anna K. Strandberg',\n",
       " 'Cassie Huang',\n",
       " 'Shalini Roy',\n",
       " 'Meei‐Shyuan Lee',\n",
       " 'María Gloria García',\n",
       " 'Megan E. Patton',\n",
       " 'Raquel Y. Badillo',\n",
       " 'Mukesh K. Jadon',\n",
       " 'Elena Simintzi',\n",
       " 'Stine Eckert',\n",
       " 'Isabelle Augenstein',\n",
       " 'Rui Wu',\n",
       " 'Corbi Graziamaria',\n",
       " 'Anjali Rao',\n",
       " 'Mari Kamochi',\n",
       " 'Hans Mark',\n",
       " 'María Inmaculada García Mainar',\n",
       " 'Jennifer Wang',\n",
       " 'Zheng Yang',\n",
       " 'Deng-chang Wu',\n",
       " 'Lili Chen',\n",
       " 'Ivanova Natalia Lvovna',\n",
       " 'Emma J. G. Van Gerven',\n",
       " 'Xiaoxiao Guo',\n",
       " 'Gamze Çavdar',\n",
       " 'Giorgia Miotto',\n",
       " 'Lokman I. Meho',\n",
       " 'Erin Ruel',\n",
       " 'Nina Zipser',\n",
       " 'Xitao Fan',\n",
       " 'Dara Hernández-Roque',\n",
       " 'Ann E. Vandenberg',\n",
       " 'Chien-Yu Chen',\n",
       " 'Hayk Amirkhanyan',\n",
       " 'Antonio Carlos Bacelar Nunes Filho',\n",
       " 'Hong Song',\n",
       " 'Jacqueline M. Cala',\n",
       " 'Moa Bursell',\n",
       " 'Alexander C. Jensen',\n",
       " 'Agustina Thailinger',\n",
       " 'Marcus Dittrich',\n",
       " 'Yongqiang Sun',\n",
       " 'M Zahid Hasan',\n",
       " 'Paola Tubaro',\n",
       " 'Bo Zhao',\n",
       " 'Sumitra Naha',\n",
       " 'Ying Tan',\n",
       " 'Odbal Odbal',\n",
       " 'John C. Russell',\n",
       " 'Elizabeth Ahikiriza',\n",
       " 'Cristina Stephens',\n",
       " 'Maria Tornatore',\n",
       " 'Letícia J. Marteleto',\n",
       " 'Noah T. Kreski',\n",
       " 'Megan Stubbs-Richardson',\n",
       " 'Roohi Mumtaz',\n",
       " 'Norihiko Akiba',\n",
       " 'Jingwen Yu',\n",
       " 'Laurie Giddens',\n",
       " 'Rupa Korde',\n",
       " 'Jordan Shannon',\n",
       " 'Chang Qi',\n",
       " 'Narges Sardabi',\n",
       " 'Benjamin Cabrera',\n",
       " 'Richard N. Jones',\n",
       " 'Yifan Wang',\n",
       " 'Lin-Yuan Deng',\n",
       " 'Somaye Hamdi Asl',\n",
       " 'Shelagh Ferguson',\n",
       " 'Hasan Tekgüç',\n",
       " 'Hristina Nikolova',\n",
       " 'Urwa Muaz',\n",
       " 'Margarita Estévez-Abe',\n",
       " 'Kassandra Friedrichs',\n",
       " 'Angela Chaudhari',\n",
       " 'Rachel E. Goldsmith',\n",
       " 'Awadh M. Alamri',\n",
       " 'Patricia Frankin',\n",
       " 'Dandan Ge',\n",
       " 'Shaina A. Lipa',\n",
       " 'Halle B. Ellison',\n",
       " 'Jue Zhao',\n",
       " 'Dario Tuorto',\n",
       " 'Samuel Kalihungu Gakwerere',\n",
       " 'Alexandria M. Lewis',\n",
       " 'Carol T. Kulik',\n",
       " 'Jiafen Hu',\n",
       " \"Ren'ata N'emeth\",\n",
       " 'Masashi Nishiyama',\n",
       " 'Li-Ping Shen',\n",
       " 'Hye-Kyung Jung',\n",
       " 'Bonnie G. Mani',\n",
       " 'Laura Hospido',\n",
       " 'Lu Yang',\n",
       " 'Dana Gavreliuc',\n",
       " 'Yang Gao',\n",
       " 'Jinjun Xiong',\n",
       " 'Tarek Al-Kharosi',\n",
       " 'Lexel Cansico',\n",
       " 'Adrian V. Hernández',\n",
       " 'Zahra Taslimi',\n",
       " 'Stacy E. Smith',\n",
       " 'Anjuli Chandra',\n",
       " 'Po-Chung Chen',\n",
       " 'Shikha Jain',\n",
       " 'Giulia Caratelli',\n",
       " 'Trish Ruebottom',\n",
       " 'Rebekah L Thomas',\n",
       " 'Noha Emara',\n",
       " 'Olga N. Kislitsina',\n",
       " 'Jillian Courey',\n",
       " 'Asuka Suzuki',\n",
       " 'Wojciech Biskup',\n",
       " 'Parisa Kogani Baharvand',\n",
       " 'Vered Shwartz',\n",
       " 'Manochehr Karami',\n",
       " 'Linda Arrighi',\n",
       " 'Parisa Aslani BPharm',\n",
       " 'Markus Andrä',\n",
       " 'Marc J Lerchenmueller',\n",
       " 'Yanyan Shi',\n",
       " 'Khairani Omar',\n",
       " 'Li Pei',\n",
       " 'Yue Yin',\n",
       " 'Larry Myers',\n",
       " 'Yi Lu',\n",
       " 'Gili Freedman',\n",
       " 'Rebecca D. Gill',\n",
       " 'Spencer L. James',\n",
       " 'Jianxia Du',\n",
       " 'Johanna Matulonis',\n",
       " 'Jouke van Dijk',\n",
       " 'Sandra Kaltner',\n",
       " 'Beenish Safdar',\n",
       " 'Deborah L. Rhode',\n",
       " 'Peter Nilsson',\n",
       " 'Yifang Wang',\n",
       " 'Thuy Duong Tran',\n",
       " 'Darinha Radovic Sendra',\n",
       " 'Mariam Rahmani',\n",
       " 'Paul A Gilbert',\n",
       " 'Hironobu Fujiwara',\n",
       " 'Rabia Ghani',\n",
       " 'Hsin‐Hui Lin',\n",
       " 'Lu-Lu Zhang',\n",
       " 'Sunčana Slijepčević',\n",
       " 'Beatriz Mella Lira',\n",
       " 'Yubin Li',\n",
       " 'Ellen L. Vaughan',\n",
       " 'Hong‐Lin Chen',\n",
       " 'Casey S. Pierce',\n",
       " 'Nikica Mojsoska Blazevski',\n",
       " 'Yoonjoo Lee',\n",
       " 'Xiaoquan Yang',\n",
       " 'Ruohui Zhao',\n",
       " 'Aparna Garimella',\n",
       " 'Alexandra A. Smith',\n",
       " 'Tianyi Huang',\n",
       " 'Andre Pauritsch',\n",
       " 'Klara Krieg',\n",
       " 'Naiara Sales Araújo Santos',\n",
       " 'Tolga Bolukbasi',\n",
       " 'Wei Yu',\n",
       " 'My Nguyen',\n",
       " 'Andreas Pondorfer',\n",
       " 'Elena M. Zubieta',\n",
       " 'Tae-Yoon Kim',\n",
       " 'Jiliang Tang',\n",
       " 'Jinyan Luo',\n",
       " 'Andrej Démuth',\n",
       " 'Nitya Rani',\n",
       " 'Izabela Pilecka',\n",
       " 'Nadzrah Abu Bakar',\n",
       " 'Joakim Hald Andersen',\n",
       " 'Sandeep Kadekar',\n",
       " 'Andrew Parambath',\n",
       " 'Mariam A. Al-Washahi',\n",
       " 'Blair Read',\n",
       " 'Amber L. Stephenson',\n",
       " 'Chen An',\n",
       " 'Sufen Chen',\n",
       " 'Deanne N. den Hartog',\n",
       " 'Jeannette M. Stein',\n",
       " 'Akampumuza Precious',\n",
       " 'Qingfang Sun',\n",
       " 'Liu Yuan',\n",
       " 'Carrie Figdor',\n",
       " 'Eric Lougheed',\n",
       " 'Yoshihiko Saito',\n",
       " 'Masoomeh Alimohammadian',\n",
       " 'Rajinder Kaur',\n",
       " 'Abderrahim Khoumich',\n",
       " 'Li Zheng',\n",
       " 'Rosario Espinal',\n",
       " 'Ya-Wen Lu',\n",
       " 'Melody Dye',\n",
       " 'Robin Stoof',\n",
       " 'Abdallah Hussein Sham',\n",
       " 'Yanli Li',\n",
       " 'Kristen A Echanique',\n",
       " 'Aly A. Khan',\n",
       " 'Nichola Tyler',\n",
       " 'María Bustelo',\n",
       " 'Stephanie Potochnick',\n",
       " 'Noraini Rusbadrol',\n",
       " 'Hussein A. Hejase',\n",
       " 'Gabriel Schui',\n",
       " 'Delara Laghousi',\n",
       " 'Nathaniel Weinman',\n",
       " 'Agustín Goenaga',\n",
       " 'Nelson Luiz Batista de Oliveira',\n",
       " 'Yehong Yang',\n",
       " 'Joseph Vecci',\n",
       " 'Wen Chen',\n",
       " 'Alexandria Valerio',\n",
       " 'Bradley M. Okdie',\n",
       " 'Arjen de Wit',\n",
       " 'Yasuhiro Takahashi',\n",
       " 'Prashanth Rao',\n",
       " 'Adeela Khalid',\n",
       " 'Xiuyan Guo',\n",
       " 'Roger Levy',\n",
       " 'Alexandra C. Feldberg',\n",
       " 'David L Oliver',\n",
       " 'Nichol Gabor',\n",
       " 'Jin-xiang Cheng',\n",
       " 'Henrik Björklund',\n",
       " 'Hsiao-Ying Huang',\n",
       " 'Sarah Kunze',\n",
       " 'Lionel D. Scott',\n",
       " 'James F. Boswell',\n",
       " 'Kirsten Brown',\n",
       " 'Jiuping Xu',\n",
       " 'Tianyu Zhang',\n",
       " 'Laer H Streeter',\n",
       " 'Damee Choi',\n",
       " 'Niki Johnson',\n",
       " 'Vincent Berardi',\n",
       " 'Janet Wei',\n",
       " 'Silvia Leoni',\n",
       " 'Riaz Ahmad Javid',\n",
       " 'Robert D. Young']"
      ]
     },
     "execution_count": 407,
     "metadata": {},
     "output_type": "execute_result"
    }
   ],
   "source": [
    "import random\n",
    "\n",
    "test_batch = random.sample(list(df_authors_full['Author'].unique()), 500)\n",
    "test_batch"
   ]
  },
  {
   "cell_type": "code",
   "execution_count": 408,
   "metadata": {},
   "outputs": [],
   "source": [
    "test_batch_info = df_authors_full[['Author', 'FirstName', 'LastName', 'Title', 'URL']].loc[df_authors_full['Author'].isin(test_batch)]\n",
    "test_batch_info.to_csv('data/test_batch_full_info.csv')"
   ]
  },
  {
   "attachments": {},
   "cell_type": "markdown",
   "metadata": {},
   "source": [
    "### Group by title to ind out, if all authors have names in the same format"
   ]
  },
  {
   "cell_type": "code",
   "execution_count": 75,
   "metadata": {},
   "outputs": [
    {
     "data": {
      "text/plain": [
       "pandas.core.series.Series"
      ]
     },
     "execution_count": 75,
     "metadata": {},
     "output_type": "execute_result"
    }
   ],
   "source": [
    "author_gr = df_authors_re.groupby('Title')['Author'].apply(lambda x: \"{%s}\" % ', '.join(x))\n",
    "type(author_gr)"
   ]
  },
  {
   "cell_type": "code",
   "execution_count": null,
   "metadata": {},
   "outputs": [],
   "source": [
    "#author_gr.str.contains('[A-Za-z]{1}\\.\\s[A-Za-z]{2,50}')"
   ]
  },
  {
   "attachments": {},
   "cell_type": "markdown",
   "metadata": {},
   "source": [
    "To update manually:"
   ]
  },
  {
   "cell_type": "code",
   "execution_count": 117,
   "metadata": {},
   "outputs": [],
   "source": [
    "df_authors_short[df_authors_short.Title.isin(df_authors_full.Title.unique())].to_csv('data/short_names_to_fill.csv')"
   ]
  },
  {
   "cell_type": "code",
   "execution_count": 410,
   "metadata": {},
   "outputs": [
    {
     "data": {
      "text/html": [
       "<div>\n",
       "<style scoped>\n",
       "    .dataframe tbody tr th:only-of-type {\n",
       "        vertical-align: middle;\n",
       "    }\n",
       "\n",
       "    .dataframe tbody tr th {\n",
       "        vertical-align: top;\n",
       "    }\n",
       "\n",
       "    .dataframe thead th {\n",
       "        text-align: right;\n",
       "    }\n",
       "</style>\n",
       "<table border=\"1\" class=\"dataframe\">\n",
       "  <thead>\n",
       "    <tr style=\"text-align: right;\">\n",
       "      <th></th>\n",
       "      <th>Title</th>\n",
       "      <th>Year</th>\n",
       "      <th>Author</th>\n",
       "      <th>PublicationType</th>\n",
       "      <th>CitationCount</th>\n",
       "      <th>URL</th>\n",
       "    </tr>\n",
       "  </thead>\n",
       "  <tbody>\n",
       "    <tr>\n",
       "      <th>27186</th>\n",
       "      <td>Reducing unconscious gender bias through works...</td>\n",
       "      <td>2019.0</td>\n",
       "      <td>Hazuki Moyoshi</td>\n",
       "      <td>None</td>\n",
       "      <td>0.0</td>\n",
       "      <td>https://www.semanticscholar.org/paper/454ff650...</td>\n",
       "    </tr>\n",
       "    <tr>\n",
       "      <th>27187</th>\n",
       "      <td>Reducing unconscious gender bias through works...</td>\n",
       "      <td>2019.0</td>\n",
       "      <td>Akira Kato</td>\n",
       "      <td>None</td>\n",
       "      <td>0.0</td>\n",
       "      <td>https://www.semanticscholar.org/paper/454ff650...</td>\n",
       "    </tr>\n",
       "  </tbody>\n",
       "</table>\n",
       "</div>"
      ],
      "text/plain": [
       "                                                   Title    Year  \\\n",
       "27186  Reducing unconscious gender bias through works...  2019.0   \n",
       "27187  Reducing unconscious gender bias through works...  2019.0   \n",
       "\n",
       "               Author PublicationType  CitationCount  \\\n",
       "27186  Hazuki Moyoshi            None            0.0   \n",
       "27187      Akira Kato            None            0.0   \n",
       "\n",
       "                                                     URL  \n",
       "27186  https://www.semanticscholar.org/paper/454ff650...  \n",
       "27187  https://www.semanticscholar.org/paper/454ff650...  "
      ]
     },
     "execution_count": 410,
     "metadata": {},
     "output_type": "execute_result"
    }
   ],
   "source": [
    "df_authors_re[df_authors_re.Title == 'Reducing unconscious gender bias through workshop with co-speculative design']"
   ]
  },
  {
   "cell_type": "code",
   "execution_count": null,
   "metadata": {},
   "outputs": [],
   "source": [
    "7926 'Gender bias and resistance in Edna O’Brien’s “country girls' trilogy”' 'Tsung-Chi Chang'\n",
    "'Gender Bias Against Foreign Wives : Analysis of International Divorce Cases in Japan' 'Naoko Kato'\n",
    "'Cultural Linguistic Study on the Chinese Gender-biased Terms against Women' 'Kim Hyun Tae' 'Korean' 'Male'\n",
    "'Reducing unconscious gender bias through workshop with co-speculative design' 'Hazuki Moyoshi'\n",
    "'Reducing unconscious gender bias through workshop with co-speculative design' 'Akira Kato'\n",
    "\n",
    "'Odbal' 'female'\n",
    "\n",
    "From https://aclanthology.org/2022.ccl-1.46.pdf:\n",
    "36393-36398\n"
   ]
  },
  {
   "attachments": {},
   "cell_type": "markdown",
   "metadata": {},
   "source": [
    "# Determine gender by name\n",
    "## Genderize.io"
   ]
  },
  {
   "cell_type": "code",
   "execution_count": 41,
   "metadata": {},
   "outputs": [
    {
     "data": {
      "text/plain": [
       "[('None', '0.0', 0.0),\n",
       " ('None', '0.0', 0.0),\n",
       " ('None', '0.0', 0.0),\n",
       " ('None', '0.0', 0.0),\n",
       " ('None', '0.0', 0.0)]"
      ]
     },
     "execution_count": 41,
     "metadata": {},
     "output_type": "execute_result"
    }
   ],
   "source": [
    "import requests, json\n",
    "\n",
    "def getGenders(names):\n",
    "\turl = \"\"\n",
    "\tcnt = 0\n",
    "\tif not isinstance(names,list):\n",
    "\t\tnames = [names,]\n",
    "\t\n",
    "\tfor name in names:\n",
    "\t\tif url == \"\":\n",
    "\t\t\turl = \"name[0]=\" + name\n",
    "\t\telse:\n",
    "\t\t\tcnt += 1\n",
    "\t\t\turl = url + \"&name[\" + str(cnt) + \"]=\" + name\n",
    "\n",
    "\treq = requests.get(\"https://api.genderize.io?\" + url)\n",
    "\tresults = json.loads(req.text)\n",
    "\t\n",
    "\tretrn = []\n",
    "\tfor result in results:\n",
    "\t\tif result[\"gender\"] is not None:\n",
    "\t\t\tretrn.append([result['name'], result[\"gender\"], result[\"probability\"], result[\"count\"]])\n",
    "\t\telse:\n",
    "\t\t\tretrn.append([u'None',u'0.0',0.0])\n",
    "\treturn retrn\n",
    "\n",
    "gender_names = getGenders([name for name in df_authors_full.Author.head()])\n",
    "gender_names"
   ]
  },
  {
   "cell_type": "code",
   "execution_count": 43,
   "metadata": {},
   "outputs": [
    {
     "data": {
      "text/plain": [
       "{'count': 618003, 'gender': 'male', 'name': 'pedro', 'probability': 1.0}"
      ]
     },
     "execution_count": 43,
     "metadata": {},
     "output_type": "execute_result"
    }
   ],
   "source": [
    "req = requests.get(\"https://api.genderize.io?name=pedro\")\n",
    "result = json.loads(req.text)\n",
    "result"
   ]
  },
  {
   "cell_type": "code",
   "execution_count": 63,
   "metadata": {},
   "outputs": [
    {
     "name": "stdout",
     "output_type": "stream",
     "text": [
      "[{'count': 84, 'gender': 'male', 'name': 'Seyyed', 'probability': 0.94}, {'count': 618003, 'gender': 'male', 'name': 'Pedro', 'probability': 1.0}, {'count': 149760, 'gender': 'female', 'name': 'Helena', 'probability': 1.0}, {'count': 14226, 'gender': 'male', 'name': 'Theo', 'probability': 0.97}, {'count': 35293, 'gender': 'female', 'name': 'Shruti', 'probability': 1.0}]\n"
     ]
    }
   ],
   "source": [
    "genders = []\n",
    "for name in [name for name in df_authors_full.FirstName.head()]:\n",
    "    req = requests.get(\"https://api.genderize.io?name=\" + name) #https://api.genderize.io?name=peter\n",
    "    result = json.loads(req.text)\n",
    "    genders.append(result)\n",
    "\n",
    "print(genders)"
   ]
  },
  {
   "attachments": {},
   "cell_type": "markdown",
   "metadata": {},
   "source": [
    "## Gender API"
   ]
  },
  {
   "cell_type": "code",
   "execution_count": 68,
   "metadata": {},
   "outputs": [
    {
     "name": "stdout",
     "output_type": "stream",
     "text": [
      "[]\n"
     ]
    }
   ],
   "source": [
    "url_genderapi = 'https://gender-api.com/get?name='\n",
    "key_genderapi = '&key=wTotoGrvGYYVau3ktAD5LBaLDgRWTc8c5728'\n",
    "\n",
    "genderapi = []\n",
    "\n",
    "for name in [name for name in df_authors_full.FirstName.head()]:\n",
    "    req = requests.get(url_genderapi+name+key_genderapi)\n",
    "    result = json.loads(req.text)\n",
    "    genderapi.append(result)\n",
    "\n",
    "print(genderapi)"
   ]
  },
  {
   "cell_type": "code",
   "execution_count": 69,
   "metadata": {},
   "outputs": [
    {
     "data": {
      "text/plain": [
       "{'name': 'shruti',\n",
       " 'name_sanitized': 'Shruti',\n",
       " 'country': '',\n",
       " 'gender': 'female',\n",
       " 'samples': 3562,\n",
       " 'accuracy': 99,\n",
       " 'duration': '14ms',\n",
       " 'credits_used': 1}"
      ]
     },
     "execution_count": 69,
     "metadata": {},
     "output_type": "execute_result"
    }
   ],
   "source": [
    "result"
   ]
  },
  {
   "attachments": {},
   "cell_type": "markdown",
   "metadata": {},
   "source": [
    "# Is it possible to extract more names from initials?"
   ]
  },
  {
   "cell_type": "code",
   "execution_count": 491,
   "metadata": {},
   "outputs": [],
   "source": [
    "df_authors_short[['FirstName', 'LastName', 'MiddleName']] = df_authors_short.apply(lambda x: name_separator(x.Author), axis=1, result_type=\"expand\")"
   ]
  },
  {
   "cell_type": "code",
   "execution_count": 432,
   "metadata": {},
   "outputs": [
    {
     "data": {
      "text/html": [
       "<div>\n",
       "<style scoped>\n",
       "    .dataframe tbody tr th:only-of-type {\n",
       "        vertical-align: middle;\n",
       "    }\n",
       "\n",
       "    .dataframe tbody tr th {\n",
       "        vertical-align: top;\n",
       "    }\n",
       "\n",
       "    .dataframe thead th {\n",
       "        text-align: right;\n",
       "    }\n",
       "</style>\n",
       "<table border=\"1\" class=\"dataframe\">\n",
       "  <thead>\n",
       "    <tr style=\"text-align: right;\">\n",
       "      <th></th>\n",
       "      <th>Title</th>\n",
       "      <th>Year</th>\n",
       "      <th>Author</th>\n",
       "      <th>PublicationType</th>\n",
       "      <th>CitationCount</th>\n",
       "      <th>URL</th>\n",
       "      <th>FirstName</th>\n",
       "      <th>LastName</th>\n",
       "      <th>MiddleName</th>\n",
       "    </tr>\n",
       "  </thead>\n",
       "  <tbody>\n",
       "  </tbody>\n",
       "</table>\n",
       "</div>"
      ],
      "text/plain": [
       "Empty DataFrame\n",
       "Columns: [Title, Year, Author, PublicationType, CitationCount, URL, FirstName, LastName, MiddleName]\n",
       "Index: []"
      ]
     },
     "execution_count": 432,
     "metadata": {},
     "output_type": "execute_result"
    }
   ],
   "source": [
    "df_authors_short[df_authors_short['LastName'].isna()]"
   ]
  },
  {
   "cell_type": "code",
   "execution_count": 464,
   "metadata": {},
   "outputs": [],
   "source": [
    "def update_names_from_RG(paper_title, surname,webdriver='dr', name=None):\n",
    "    time.sleep(random.randint(1,10))\n",
    "    query = paper_title.replace(' ', '+') + '+' + surname\n",
    "    url = f\"https://www.researchgate.net/search.Search.html?query={query}&type=publication\"\n",
    "    #print(query, url)\n",
    "    \n",
    "    dr.get(url)\n",
    "    soup = BeautifulSoup(dr.page_source,\"lxml\")\n",
    "\n",
    "    results = soup.find_all('div', class_=\"nova-legacy-v-publication-item__stack nova-legacy-v-publication-item__stack--gutter-m\")\n",
    "        \n",
    "    for result in results:\n",
    "        result_title = result.find(\"a\", class_=\"nova-legacy-e-link nova-legacy-e-link--color-inherit nova-legacy-e-link--theme-bare\")\n",
    "        result_title = result_title.text\n",
    "    \n",
    "        if result_title.lower() == paper_title.lower():\n",
    "            #print(result_title)\n",
    "            results_name = result.find_all('a', class_='nova-legacy-v-person-inline-item')\n",
    "            for name in results_name:\n",
    "                full_name = name.text.split(' ')\n",
    "                #print(surname, full_name[-1])\n",
    "                if surname.lower() == full_name[-1].lower():\n",
    "                    if not full_name[0].replace('.', '').isupper():\n",
    "                        if (full_name[0] not in ['Mr.', 'Dr.', 'Miss., Md.']):\n",
    "                            first_name = full_name[0]\n",
    "                    return first_name"
   ]
  },
  {
   "cell_type": "code",
   "execution_count": 527,
   "metadata": {},
   "outputs": [],
   "source": [
    "dr = webdriver.Chrome()"
   ]
  },
  {
   "cell_type": "code",
   "execution_count": null,
   "metadata": {},
   "outputs": [],
   "source": [
    "df_authors_short['FirstName_full'].iloc[:3] = df_authors_short.apply(lambda x: update_names_from_RG(x.Title, x.LastName, dr), axis=1)"
   ]
  },
  {
   "cell_type": "code",
   "execution_count": null,
   "metadata": {},
   "outputs": [],
   "source": [
    "for i in range(11500,23700,50):\n",
    "    df_authors_short_batch = df_authors_short.iloc[i:i+50]\n",
    "    df_authors_short_batch['FirstName'] = df_authors_short_batch.apply(lambda x: update_names_from_RG(x.Title, x.LastName, dr), axis=1)\n",
    "    df_authors_full = df_authors_full.append(df_authors_short_batch, ignore_index=True)\n",
    "    print(f'{i+50} done')\n",
    "    if (i + 50) % 500 == 0:\n",
    "        #dr = webdriver.Chrome()\n",
    "        df_authors_full[~df_authors_full.FirstName.isnull()].to_csv('data/authors_full_names_extended.csv')"
   ]
  },
  {
   "cell_type": "code",
   "execution_count": 529,
   "metadata": {},
   "outputs": [],
   "source": [
    "df_authors_full[~df_authors_full.FirstName.isnull()].to_csv('data/authors_full_names_extended.csv')"
   ]
  },
  {
   "cell_type": "code",
   "execution_count": 538,
   "metadata": {},
   "outputs": [],
   "source": [
    "df_authors_full[df_authors_full.FirstName.isnull()].to_csv('data/authors_short_names_toFill.csv')"
   ]
  },
  {
   "attachments": {},
   "cell_type": "markdown",
   "metadata": {},
   "source": [
    "Results of update and the rate of success (number of update names in proportion to all added names)"
   ]
  },
  {
   "cell_type": "code",
   "execution_count": 537,
   "metadata": {},
   "outputs": [
    {
     "name": "stdout",
     "output_type": "stream",
     "text": [
      "Added new full names: 10082\n",
      "Could not update names: 13784\n",
      "success rate = 0.42540084388185656\n"
     ]
    }
   ],
   "source": [
    "print('Added new full names: ',len(df_authors_full[~df_authors_full.FirstName.isnull()]) - 15500, '\\n',\n",
    "    'Could not update names: ', len(df_authors_full[df_authors_full.FirstName.isnull()]), '\\n',\n",
    "    'success rate = ', ((len(df_authors_full[~df_authors_full.FirstName.isnull()]))-15500)/23700, sep='')"
   ]
  },
  {
   "attachments": {},
   "cell_type": "markdown",
   "metadata": {},
   "source": [
    "Try some more filters"
   ]
  },
  {
   "cell_type": "code",
   "execution_count": 542,
   "metadata": {},
   "outputs": [],
   "source": [
    "df_authors_extended = df_authors_full[~df_authors_full.FirstName.isnull()].copy()"
   ]
  },
  {
   "attachments": {},
   "cell_type": "markdown",
   "metadata": {},
   "source": [
    "There are some erroneous firstNames: \n",
    "- one letter initials with a dot (eg. 'M.'),\n",
    "- initials with two letters and dash or dot in between (eg. 'M. C.' or 'M.-C.')\n",
    "- a title, that was collected as Name (eg. 'Dr.', 'Mr.)\n",
    "\n",
    "They need to be cleared, but without erasing some names, that have dots at the end (eg. 'Jennifer.')"
   ]
  },
  {
   "cell_type": "code",
   "execution_count": 549,
   "metadata": {},
   "outputs": [
    {
     "name": "stderr",
     "output_type": "stream",
     "text": [
      "C:\\Users\\afedorova\\AppData\\Local\\Temp\\ipykernel_1824\\1054239509.py:1: FutureWarning: The default value of regex will change from True to False in a future version. In addition, single character regular expressions will *not* be treated as literal strings when regex=True.\n",
      "  df_authors_extended[(df_authors_extended.FirstName.str.contains('\\.$') & df_authors_extended.FirstName.str.replace('.', '').str.isupper()) | \\\n"
     ]
    },
    {
     "data": {
      "text/html": [
       "<div>\n",
       "<style scoped>\n",
       "    .dataframe tbody tr th:only-of-type {\n",
       "        vertical-align: middle;\n",
       "    }\n",
       "\n",
       "    .dataframe tbody tr th {\n",
       "        vertical-align: top;\n",
       "    }\n",
       "\n",
       "    .dataframe thead th {\n",
       "        text-align: right;\n",
       "    }\n",
       "</style>\n",
       "<table border=\"1\" class=\"dataframe\">\n",
       "  <thead>\n",
       "    <tr style=\"text-align: right;\">\n",
       "      <th></th>\n",
       "      <th>Title</th>\n",
       "      <th>Year</th>\n",
       "      <th>Author</th>\n",
       "      <th>PublicationType</th>\n",
       "      <th>CitationCount</th>\n",
       "      <th>URL</th>\n",
       "      <th>FirstName</th>\n",
       "      <th>LastName</th>\n",
       "      <th>MiddleName</th>\n",
       "    </tr>\n",
       "  </thead>\n",
       "  <tbody>\n",
       "    <tr>\n",
       "      <th>307</th>\n",
       "      <td>Gender differences in treatment outcomes of tu...</td>\n",
       "      <td>2012.0</td>\n",
       "      <td>M-C. Yu</td>\n",
       "      <td>[Study, JournalArticle]</td>\n",
       "      <td>69.0</td>\n",
       "      <td>https://www.semanticscholar.org/paper/f0f1d8f9...</td>\n",
       "      <td>M-C.</td>\n",
       "      <td>Yu</td>\n",
       "      <td>None</td>\n",
       "    </tr>\n",
       "    <tr>\n",
       "      <th>1271</th>\n",
       "      <td>Investment Behaviour of Indian Investors: Gend...</td>\n",
       "      <td>2013.0</td>\n",
       "      <td>Dr. Seema Singh</td>\n",
       "      <td>[Review]</td>\n",
       "      <td>6.0</td>\n",
       "      <td>https://www.semanticscholar.org/paper/80dcf5ac...</td>\n",
       "      <td>Dr.</td>\n",
       "      <td>Singh</td>\n",
       "      <td>Seema</td>\n",
       "    </tr>\n",
       "    <tr>\n",
       "      <th>1612</th>\n",
       "      <td>Gender Differences in Disability-Free Life Exp...</td>\n",
       "      <td>2013.0</td>\n",
       "      <td>Md. Ismail Tareque</td>\n",
       "      <td>[JournalArticle, Review]</td>\n",
       "      <td>36.0</td>\n",
       "      <td>https://www.semanticscholar.org/paper/5ef97ee9...</td>\n",
       "      <td>Md.</td>\n",
       "      <td>Tareque</td>\n",
       "      <td>Ismail</td>\n",
       "    </tr>\n",
       "    <tr>\n",
       "      <th>2303</th>\n",
       "      <td>Gender Bias Without Borders An Investigation o...</td>\n",
       "      <td>2014.0</td>\n",
       "      <td>Dr. Katherine Pieper</td>\n",
       "      <td>None</td>\n",
       "      <td>41.0</td>\n",
       "      <td>https://www.semanticscholar.org/paper/f30f1f5c...</td>\n",
       "      <td>Dr.</td>\n",
       "      <td>Pieper</td>\n",
       "      <td>Katherine</td>\n",
       "    </tr>\n",
       "    <tr>\n",
       "      <th>2327</th>\n",
       "      <td>Gender Bias in Performance Evaluations:</td>\n",
       "      <td>2014.0</td>\n",
       "      <td>Dr. Jan Sauermann</td>\n",
       "      <td>None</td>\n",
       "      <td>0.0</td>\n",
       "      <td>https://www.semanticscholar.org/paper/04dda39b...</td>\n",
       "      <td>Dr.</td>\n",
       "      <td>Sauermann</td>\n",
       "      <td>Jan</td>\n",
       "    </tr>\n",
       "    <tr>\n",
       "      <th>...</th>\n",
       "      <td>...</td>\n",
       "      <td>...</td>\n",
       "      <td>...</td>\n",
       "      <td>...</td>\n",
       "      <td>...</td>\n",
       "      <td>...</td>\n",
       "      <td>...</td>\n",
       "      <td>...</td>\n",
       "      <td>...</td>\n",
       "    </tr>\n",
       "    <tr>\n",
       "      <th>39000</th>\n",
       "      <td>Gender-specifi c differences in ascending aort...</td>\n",
       "      <td>2022.0</td>\n",
       "      <td>S. Sazonova</td>\n",
       "      <td>None</td>\n",
       "      <td>0.0</td>\n",
       "      <td>https://www.semanticscholar.org/paper/e38f64f8...</td>\n",
       "      <td>S.</td>\n",
       "      <td>Sazonova</td>\n",
       "      <td>None</td>\n",
       "    </tr>\n",
       "    <tr>\n",
       "      <th>39082</th>\n",
       "      <td>Health-oriented leadership, gender-differences...</td>\n",
       "      <td>2023.0</td>\n",
       "      <td>H. Drexler</td>\n",
       "      <td>[JournalArticle, Review]</td>\n",
       "      <td>0.0</td>\n",
       "      <td>https://www.semanticscholar.org/paper/b221f70c...</td>\n",
       "      <td>H.</td>\n",
       "      <td>Drexler</td>\n",
       "      <td>None</td>\n",
       "    </tr>\n",
       "    <tr>\n",
       "      <th>39316</th>\n",
       "      <td>Gender differences in the association between ...</td>\n",
       "      <td>2023.0</td>\n",
       "      <td>T. Muhammad</td>\n",
       "      <td>None</td>\n",
       "      <td>0.0</td>\n",
       "      <td>https://www.semanticscholar.org/paper/e94cc702...</td>\n",
       "      <td>T.</td>\n",
       "      <td>Muhammad</td>\n",
       "      <td>None</td>\n",
       "    </tr>\n",
       "    <tr>\n",
       "      <th>39322</th>\n",
       "      <td>Exploring the gender gap in mobile money aware...</td>\n",
       "      <td>2023.0</td>\n",
       "      <td>C. Leigh Anderson</td>\n",
       "      <td>None</td>\n",
       "      <td>0.0</td>\n",
       "      <td>https://www.semanticscholar.org/paper/cd259f56...</td>\n",
       "      <td>C.</td>\n",
       "      <td>Anderson</td>\n",
       "      <td>Leigh</td>\n",
       "    </tr>\n",
       "    <tr>\n",
       "      <th>39337</th>\n",
       "      <td>Sex and gender differences in clinical and fun...</td>\n",
       "      <td>2023.0</td>\n",
       "      <td>A. Mucci</td>\n",
       "      <td>[JournalArticle]</td>\n",
       "      <td>0.0</td>\n",
       "      <td>https://www.semanticscholar.org/paper/cdfa55b0...</td>\n",
       "      <td>A.</td>\n",
       "      <td>Mucci</td>\n",
       "      <td>None</td>\n",
       "    </tr>\n",
       "  </tbody>\n",
       "</table>\n",
       "<p>335 rows × 9 columns</p>\n",
       "</div>"
      ],
      "text/plain": [
       "                                                   Title    Year  \\\n",
       "307    Gender differences in treatment outcomes of tu...  2012.0   \n",
       "1271   Investment Behaviour of Indian Investors: Gend...  2013.0   \n",
       "1612   Gender Differences in Disability-Free Life Exp...  2013.0   \n",
       "2303   Gender Bias Without Borders An Investigation o...  2014.0   \n",
       "2327             Gender Bias in Performance Evaluations:  2014.0   \n",
       "...                                                  ...     ...   \n",
       "39000  Gender-specifi c differences in ascending aort...  2022.0   \n",
       "39082  Health-oriented leadership, gender-differences...  2023.0   \n",
       "39316  Gender differences in the association between ...  2023.0   \n",
       "39322  Exploring the gender gap in mobile money aware...  2023.0   \n",
       "39337  Sex and gender differences in clinical and fun...  2023.0   \n",
       "\n",
       "                     Author           PublicationType  CitationCount  \\\n",
       "307                 M-C. Yu   [Study, JournalArticle]           69.0   \n",
       "1271        Dr. Seema Singh                  [Review]            6.0   \n",
       "1612     Md. Ismail Tareque  [JournalArticle, Review]           36.0   \n",
       "2303   Dr. Katherine Pieper                      None           41.0   \n",
       "2327      Dr. Jan Sauermann                      None            0.0   \n",
       "...                     ...                       ...            ...   \n",
       "39000           S. Sazonova                      None            0.0   \n",
       "39082            H. Drexler  [JournalArticle, Review]            0.0   \n",
       "39316           T. Muhammad                      None            0.0   \n",
       "39322     C. Leigh Anderson                      None            0.0   \n",
       "39337              A. Mucci          [JournalArticle]            0.0   \n",
       "\n",
       "                                                     URL FirstName   LastName  \\\n",
       "307    https://www.semanticscholar.org/paper/f0f1d8f9...      M-C.         Yu   \n",
       "1271   https://www.semanticscholar.org/paper/80dcf5ac...       Dr.      Singh   \n",
       "1612   https://www.semanticscholar.org/paper/5ef97ee9...       Md.    Tareque   \n",
       "2303   https://www.semanticscholar.org/paper/f30f1f5c...       Dr.     Pieper   \n",
       "2327   https://www.semanticscholar.org/paper/04dda39b...       Dr.  Sauermann   \n",
       "...                                                  ...       ...        ...   \n",
       "39000  https://www.semanticscholar.org/paper/e38f64f8...        S.   Sazonova   \n",
       "39082  https://www.semanticscholar.org/paper/b221f70c...        H.    Drexler   \n",
       "39316  https://www.semanticscholar.org/paper/e94cc702...        T.   Muhammad   \n",
       "39322  https://www.semanticscholar.org/paper/cd259f56...        C.   Anderson   \n",
       "39337  https://www.semanticscholar.org/paper/cdfa55b0...        A.      Mucci   \n",
       "\n",
       "      MiddleName  \n",
       "307         None  \n",
       "1271       Seema  \n",
       "1612      Ismail  \n",
       "2303   Katherine  \n",
       "2327         Jan  \n",
       "...          ...  \n",
       "39000       None  \n",
       "39082       None  \n",
       "39316       None  \n",
       "39322      Leigh  \n",
       "39337       None  \n",
       "\n",
       "[335 rows x 9 columns]"
      ]
     },
     "execution_count": 549,
     "metadata": {},
     "output_type": "execute_result"
    }
   ],
   "source": [
    "df_authors_extended[(df_authors_extended.FirstName.str.contains('\\.$') & df_authors_extended.FirstName.str.replace('.', '').str.isupper()) | \\\n",
    "    df_authors_extended.FirstName.isin(['Mr.', 'Dr.', 'Miss.', 'Md.'])]"
   ]
  },
  {
   "cell_type": "code",
   "execution_count": null,
   "metadata": {},
   "outputs": [],
   "source": [
    "authors_short = df_authors_full[df_authors_full.FirstName.isnull()].copy()\n",
    "authors_short = authors_short.append(df_authors_extended[(df_authors_extended.FirstName.str.contains('\\.$') & df_authors_extended.FirstName.str.replace('.', '').str.isupper()) | \\\n",
    "    df_authors_extended.FirstName.isin(['Mr.', 'Dr.', 'Miss.', 'Md.'])])\n",
    "authors_short"
   ]
  },
  {
   "cell_type": "code",
   "execution_count": 554,
   "metadata": {},
   "outputs": [],
   "source": [
    "names_dot = authors_short[authors_short.Title.str.contains('\\.$')].copy()"
   ]
  },
  {
   "cell_type": "code",
   "execution_count": 555,
   "metadata": {},
   "outputs": [],
   "source": [
    "for i in range(0,3838,50):\n",
    "    df_authors_short_batch = names_dot.iloc[i:i+50]\n",
    "    df_authors_short_batch['FirstName'] = df_authors_short_batch.apply(lambda x: update_names_from_RG(x.Title, x.LastName, dr), axis=1)\n",
    "    df_authors_full = df_authors_full.append(df_authors_short_batch[df_authors_short_batch.notnull()], ignore_index=True)\n",
    "    print(f'{i+50} done')\n",
    "    if (i + 50) % 500 == 0:\n",
    "        #dr = webdriver.Chrome()\n",
    "        df_authors_full[~df_authors_full.FirstName.isnull()].to_csv('data/authors_full_names_extended2.csv')\n",
    "\n",
    "#authors_short[authors_short.Title.str.contains('\\.$')]"
   ]
  },
  {
   "attachments": {},
   "cell_type": "markdown",
   "metadata": {},
   "source": [
    "## Manual update"
   ]
  },
  {
   "cell_type": "code",
   "execution_count": null,
   "metadata": {},
   "outputs": [],
   "source": [
    "'R. Dietz': 'Richard Dietz',\n",
    "'R. Pearson':  'Richard Pearson',\n",
    "'M. Semak': 'Matthew R Semak',\n",
    "'C. Willis': 'Courtney W Willis',\n",
    "'D. Syed': 'Deeba N. Syed',\n",
    "'H. Mukhtar': 'Hasan Mukhtar'"
   ]
  },
  {
   "attachments": {},
   "cell_type": "markdown",
   "metadata": {},
   "source": [
    "How is the relative distribution of gender among the researchers, who study gender bias?\n",
    "\n",
    "How is the temporal dynamics of the female representation as well as the decade forecast?"
   ]
  },
  {
   "attachments": {},
   "cell_type": "markdown",
   "metadata": {},
   "source": [
    "Check search pattern \"women + bias\" (as in \"bias against women\") in df_authors, that are not in df_authors_re"
   ]
  },
  {
   "cell_type": "markdown",
   "metadata": {},
   "source": [
    "try google scholar with SemanticScholar for author names"
   ]
  }
 ],
 "metadata": {
  "kernelspec": {
   "display_name": "Python 3",
   "language": "python",
   "name": "python3"
  },
  "language_info": {
   "codemirror_mode": {
    "name": "ipython",
    "version": 3
   },
   "file_extension": ".py",
   "mimetype": "text/x-python",
   "name": "python",
   "nbconvert_exporter": "python",
   "pygments_lexer": "ipython3",
   "version": "3.10.4"
  },
  "orig_nbformat": 4,
  "vscode": {
   "interpreter": {
    "hash": "d3e10ef16274dd72e574b8fa73b58450b957d8421a2901baded3cca26fcf5dda"
   }
  }
 },
 "nbformat": 4,
 "nbformat_minor": 2
}
